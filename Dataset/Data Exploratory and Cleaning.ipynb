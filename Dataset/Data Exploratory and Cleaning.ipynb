{
 "cells": [
  {
   "cell_type": "markdown",
   "metadata": {},
   "source": [
    "Reference: https://towardsdatascience.com/a-practitioners-guide-to-natural-language-processing-part-i-processing-understanding-text-9f4abfd13e72 <br>AND Annie's \"Text Normalization Demo.ipynb\""
   ]
  },
  {
   "cell_type": "markdown",
   "metadata": {},
   "source": [
    "# Data Exploratory"
   ]
  },
  {
   "cell_type": "code",
   "execution_count": 1,
   "metadata": {},
   "outputs": [],
   "source": [
    "import pandas as pd\n",
    "import numpy as np\n",
    "import matplotlib.pyplot as plt\n",
    "import seaborn as sns\n",
    "import os\n",
    "%matplotlib inline"
   ]
  },
  {
   "cell_type": "code",
   "execution_count": 2,
   "metadata": {},
   "outputs": [],
   "source": [
    "health_df = pd.read_csv('D:\\\\Education\\\\York U\\\\ML 1010\\\\Group Project\\\\Dataset\\\\HealthNewsTweets.csv', header=None)"
   ]
  },
  {
   "cell_type": "code",
   "execution_count": 3,
   "metadata": {},
   "outputs": [
    {
     "data": {
      "text/plain": [
       "pandas.core.frame.DataFrame"
      ]
     },
     "execution_count": 3,
     "metadata": {},
     "output_type": "execute_result"
    }
   ],
   "source": [
    "type(health_df)"
   ]
  },
  {
   "cell_type": "code",
   "execution_count": 4,
   "metadata": {},
   "outputs": [
    {
     "data": {
      "text/plain": [
       "63207"
      ]
     },
     "execution_count": 4,
     "metadata": {},
     "output_type": "execute_result"
    }
   ],
   "source": [
    "len(health_df)"
   ]
  },
  {
   "cell_type": "code",
   "execution_count": 5,
   "metadata": {},
   "outputs": [
    {
     "data": {
      "text/html": [
       "<div>\n",
       "<style scoped>\n",
       "    .dataframe tbody tr th:only-of-type {\n",
       "        vertical-align: middle;\n",
       "    }\n",
       "\n",
       "    .dataframe tbody tr th {\n",
       "        vertical-align: top;\n",
       "    }\n",
       "\n",
       "    .dataframe thead th {\n",
       "        text-align: right;\n",
       "    }\n",
       "</style>\n",
       "<table border=\"1\" class=\"dataframe\">\n",
       "  <thead>\n",
       "    <tr style=\"text-align: right;\">\n",
       "      <th></th>\n",
       "      <th>0</th>\n",
       "    </tr>\n",
       "  </thead>\n",
       "  <tbody>\n",
       "    <tr>\n",
       "      <th>0</th>\n",
       "      <td>Breast cancer risk test devised</td>\n",
       "    </tr>\n",
       "    <tr>\n",
       "      <th>1</th>\n",
       "      <td>GP workload harming care - BMA poll</td>\n",
       "    </tr>\n",
       "    <tr>\n",
       "      <th>2</th>\n",
       "      <td>Short people's 'heart risk greater'</td>\n",
       "    </tr>\n",
       "    <tr>\n",
       "      <th>3</th>\n",
       "      <td>New approach against HIV 'promising'</td>\n",
       "    </tr>\n",
       "    <tr>\n",
       "      <th>4</th>\n",
       "      <td>Coalition 'undermined NHS' - doctors</td>\n",
       "    </tr>\n",
       "  </tbody>\n",
       "</table>\n",
       "</div>"
      ],
      "text/plain": [
       "                                       0\n",
       "0       Breast cancer risk test devised \n",
       "1   GP workload harming care - BMA poll \n",
       "2   Short people's 'heart risk greater' \n",
       "3  New approach against HIV 'promising' \n",
       "4  Coalition 'undermined NHS' - doctors "
      ]
     },
     "execution_count": 5,
     "metadata": {},
     "output_type": "execute_result"
    }
   ],
   "source": [
    "health_df.head(5) # The function can also be done by \"health_df[:5]\" or \"print(health_df[:5])\""
   ]
  },
  {
   "cell_type": "code",
   "execution_count": 6,
   "metadata": {},
   "outputs": [
    {
     "data": {
      "text/html": [
       "<div>\n",
       "<style scoped>\n",
       "    .dataframe tbody tr th:only-of-type {\n",
       "        vertical-align: middle;\n",
       "    }\n",
       "\n",
       "    .dataframe tbody tr th {\n",
       "        vertical-align: top;\n",
       "    }\n",
       "\n",
       "    .dataframe thead th {\n",
       "        text-align: right;\n",
       "    }\n",
       "</style>\n",
       "<table border=\"1\" class=\"dataframe\">\n",
       "  <thead>\n",
       "    <tr style=\"text-align: right;\">\n",
       "      <th></th>\n",
       "      <th>0</th>\n",
       "    </tr>\n",
       "  </thead>\n",
       "  <tbody>\n",
       "    <tr>\n",
       "      <th>A kidney for $10,000? Paying donors actually pays off, new study finds</th>\n",
       "      <td>50</td>\n",
       "    </tr>\n",
       "    <tr>\n",
       "      <th>Opinion: Why selling kidneys still won't work</th>\n",
       "      <td>50</td>\n",
       "    </tr>\n",
       "    <tr>\n",
       "      <th>FDA proposes strict new  safety rules for animal food</th>\n",
       "      <td>49</td>\n",
       "    </tr>\n",
       "    <tr>\n",
       "      <th>FDA approves more powerful painkiller</th>\n",
       "      <td>49</td>\n",
       "    </tr>\n",
       "    <tr>\n",
       "      <th>Favre's 'scary' memory lapses re-open NFL concussion questions</th>\n",
       "      <td>48</td>\n",
       "    </tr>\n",
       "    <tr>\n",
       "      <th>Tweeting bra exposed: Genuine support or publicity lift?</th>\n",
       "      <td>48</td>\n",
       "    </tr>\n",
       "    <tr>\n",
       "      <th>North Dakota Catholics warned of possible hepatitis exposure from bishop during communion</th>\n",
       "      <td>47</td>\n",
       "    </tr>\n",
       "    <tr>\n",
       "      <th>Everyday Health Daily Digest is out!</th>\n",
       "      <td>42</td>\n",
       "    </tr>\n",
       "    <tr>\n",
       "      <th>Get a $5 @wagdotcom gift to spend on your furry friend when you purchase 1 of these premium pet foods:</th>\n",
       "      <td>34</td>\n",
       "    </tr>\n",
       "    <tr>\n",
       "      <th>Enter daily for a chance to #win our holiday #sweepstakes! Fab weekly #prizes (e.g. Dyson vacuum) + $10,000 grand prize</th>\n",
       "      <td>26</td>\n",
       "    </tr>\n",
       "    <tr>\n",
       "      <th>10 foods that boost your skin AND slim your waistline:</th>\n",
       "      <td>22</td>\n",
       "    </tr>\n",
       "    <tr>\n",
       "      <th>Make 2015 the year you clean up your diet, strip away stress, and lose weight. This @CoziFamily checklist will help:</th>\n",
       "      <td>20</td>\n",
       "    </tr>\n",
       "    <tr>\n",
       "      <th>9 foods to eat for a longer life:</th>\n",
       "      <td>18</td>\n",
       "    </tr>\n",
       "    <tr>\n",
       "      <th>Join us and @CanyonRanch for the #HealthTotalWellness weekend. Exclusive offer with code HealthTotalWellness at</th>\n",
       "      <td>17</td>\n",
       "    </tr>\n",
       "    <tr>\n",
       "      <th>Enjoy an aah-mazing weekend with HEALTH editors at @CanyonRanch. Exclusive offer with code HealthTotalWellness</th>\n",
       "      <td>17</td>\n",
       "    </tr>\n",
       "    <tr>\n",
       "      <th>Treat yourself to a transformative getaway at the #HealthTotalWellness weekend at @CanyonRanch! Details here:</th>\n",
       "      <td>16</td>\n",
       "    </tr>\n",
       "    <tr>\n",
       "      <th>Give an aah-mazing gift and send someone special to the #HealthTotalWellness weekend at @CanyonRanch!</th>\n",
       "      <td>15</td>\n",
       "    </tr>\n",
       "    <tr>\n",
       "      <th>Enter daily for a chance to #win our holiday #sweepstakes! Weekly #prizes (e.g. $500 gift card) + $10,000 grand prize</th>\n",
       "      <td>13</td>\n",
       "    </tr>\n",
       "    <tr>\n",
       "      <th>Soda drinkers listen up! Here are 7 reasons why you should kick the soda habit:</th>\n",
       "      <td>12</td>\n",
       "    </tr>\n",
       "    <tr>\n",
       "      <th>9 eating habits that pack on the pounds:</th>\n",
       "      <td>12</td>\n",
       "    </tr>\n",
       "    <tr>\n",
       "      <th>Red meat, and 6 more surprising foods that'll spike your blood sugar:</th>\n",
       "      <td>11</td>\n",
       "    </tr>\n",
       "    <tr>\n",
       "      <th>Fiber-rich foods to add to your diet ASAP:</th>\n",
       "      <td>11</td>\n",
       "    </tr>\n",
       "    <tr>\n",
       "      <th>10 ways to cut 100 calories TODAY</th>\n",
       "      <td>10</td>\n",
       "    </tr>\n",
       "    <tr>\n",
       "      <th>Want to save even MORE money on #BlackFriday? Sign up for special coupon codes with the @CoziFamily app!</th>\n",
       "      <td>10</td>\n",
       "    </tr>\n",
       "    <tr>\n",
       "      <th>10 Weeks to a #Slim New You! Sign up for Health's first ever email series to get tips, advice, #workouts, &amp;amp; #recipes!</th>\n",
       "      <td>10</td>\n",
       "    </tr>\n",
       "    <tr>\n",
       "      <th>Discover a new you this year at the #HealthTotalWellness weekend at @CanyonRanch! Get more details here:</th>\n",
       "      <td>10</td>\n",
       "    </tr>\n",
       "    <tr>\n",
       "      <th>10 health symptoms men shouldn't ignore</th>\n",
       "      <td>10</td>\n",
       "    </tr>\n",
       "    <tr>\n",
       "      <th>ADHD characteristics can actually be a huge plus in choosing a career. Here, the most ADHD-friendly jobs:</th>\n",
       "      <td>10</td>\n",
       "    </tr>\n",
       "    <tr>\n",
       "      <th>Jump-start your weight loss with 30 days of expert tips, meal plans, and workouts.</th>\n",
       "      <td>9</td>\n",
       "    </tr>\n",
       "    <tr>\n",
       "      <th>Enter our #sweepstakes for a chance to #win a trip for 2 to Gansevoort Turks &amp;amp; Caicos! (Airfaire, #spa treatments, etc)</th>\n",
       "      <td>9</td>\n",
       "    </tr>\n",
       "    <tr>\n",
       "      <th>...</th>\n",
       "      <td>...</td>\n",
       "    </tr>\n",
       "    <tr>\n",
       "      <th>On eve of court ruling, Americans oppose contraceptive ban: Reuters/Ipsos poll</th>\n",
       "      <td>1</td>\n",
       "    </tr>\n",
       "    <tr>\n",
       "      <th>Calorie labels inaccurate, experts say</th>\n",
       "      <td>1</td>\n",
       "    </tr>\n",
       "    <tr>\n",
       "      <th>Some Airports Have A New Security Routine: Taking Your Temperature</th>\n",
       "      <td>1</td>\n",
       "    </tr>\n",
       "    <tr>\n",
       "      <th>Obama Administration Mulls Rule To Give Home Health Aides Better Wages, @AlvinHTran reports:</th>\n",
       "      <td>1</td>\n",
       "    </tr>\n",
       "    <tr>\n",
       "      <th>From Crock-Pots to 'Cook-Overs': Your Dinnertime Confessional Tips</th>\n",
       "      <td>1</td>\n",
       "    </tr>\n",
       "    <tr>\n",
       "      <th>24 healthy, new recipes that include your favorite green: kale.</th>\n",
       "      <td>1</td>\n",
       "    </tr>\n",
       "    <tr>\n",
       "      <th>Poorer, Obese Adults Might Benefit From Behavior-Change Program:</th>\n",
       "      <td>1</td>\n",
       "    </tr>\n",
       "    <tr>\n",
       "      <th>VIDEO: Pfizer bid 'could delay' drugs</th>\n",
       "      <td>1</td>\n",
       "    </tr>\n",
       "    <tr>\n",
       "      <th>Hepatitis C Treatment Wins Approval, but Price Relief May Be Limited</th>\n",
       "      <td>1</td>\n",
       "    </tr>\n",
       "    <tr>\n",
       "      <th>USDA shutters Foster Farms poultry plant over cockroaches</th>\n",
       "      <td>1</td>\n",
       "    </tr>\n",
       "    <tr>\n",
       "      <th>Today's top @SocietyGuardian story: NHS wastes over Â£2bn a year on unnecessary or expensive treatments</th>\n",
       "      <td>1</td>\n",
       "    </tr>\n",
       "    <tr>\n",
       "      <th>NHS to target long waits for ops</th>\n",
       "      <td>1</td>\n",
       "    </tr>\n",
       "    <tr>\n",
       "      <th>Controversy surrounds 'fringe' heart treatment</th>\n",
       "      <td>1</td>\n",
       "    </tr>\n",
       "    <tr>\n",
       "      <th>Today's #getfit tip @WomensHealthMag: Pre-cut your food to trick your mind into thinking you're eating more</th>\n",
       "      <td>1</td>\n",
       "    </tr>\n",
       "    <tr>\n",
       "      <th>Cancer Plus Chemo Might Put Your Job At Risk</th>\n",
       "      <td>1</td>\n",
       "    </tr>\n",
       "    <tr>\n",
       "      <th>Quitting Smoking No Harder for Women Than Men, Study Says:</th>\n",
       "      <td>1</td>\n",
       "    </tr>\n",
       "    <tr>\n",
       "      <th>Use Caution in Ending Life Support for Brain-Injured, Experts Say:</th>\n",
       "      <td>1</td>\n",
       "    </tr>\n",
       "    <tr>\n",
       "      <th>Protruding ears donâ€™t trigger assumptions about personality</th>\n",
       "      <td>1</td>\n",
       "    </tr>\n",
       "    <tr>\n",
       "      <th>Ottawa will 'comply' with refugee health-care ruling until appeal is heard</th>\n",
       "      <td>1</td>\n",
       "    </tr>\n",
       "    <tr>\n",
       "      <th>Don't miss: How has the NHS improved patient safety?</th>\n",
       "      <td>1</td>\n",
       "    </tr>\n",
       "    <tr>\n",
       "      <th>Here's to fruit and veggies! New study finds #vegetarians may live longer than meat-eaters</th>\n",
       "      <td>1</td>\n",
       "    </tr>\n",
       "    <tr>\n",
       "      <th>The diet that's good for your waistline and your brain:</th>\n",
       "      <td>1</td>\n",
       "    </tr>\n",
       "    <tr>\n",
       "      <th>RT @CynthiaSass: @goodhealth Q1 Other challenging aspects of weight loss are the social and emotional eating triggers... #TalkNutrition</th>\n",
       "      <td>1</td>\n",
       "    </tr>\n",
       "    <tr>\n",
       "      <th>Well: Think Like a Doctor: Stomach Bug Solved!</th>\n",
       "      <td>1</td>\n",
       "    </tr>\n",
       "    <tr>\n",
       "      <th>Beautiful RT @ApothecaCanada: Eating Purple - 5 ways for #eating #eggplant from @nytimeshealth</th>\n",
       "      <td>1</td>\n",
       "    </tr>\n",
       "    <tr>\n",
       "      <th>RT @ShirleySWangWSJ: Striking numbers: MT @WSJ:  Each day treating single #Ebola patient requires 52.8 gall water.</th>\n",
       "      <td>1</td>\n",
       "    </tr>\n",
       "    <tr>\n",
       "      <th>How Much Bigger Is The Ebola Outbreak Than Official Reports?</th>\n",
       "      <td>1</td>\n",
       "    </tr>\n",
       "    <tr>\n",
       "      <th>#WeHo woman fights to stay alive to raise her 2-yr-old</th>\n",
       "      <td>1</td>\n",
       "    </tr>\n",
       "    <tr>\n",
       "      <th>Shinseki's Apology Punctuates A Long Career Of Service</th>\n",
       "      <td>1</td>\n",
       "    </tr>\n",
       "    <tr>\n",
       "      <th>Polio Returns To Syria As Health System Crumbles</th>\n",
       "      <td>1</td>\n",
       "    </tr>\n",
       "  </tbody>\n",
       "</table>\n",
       "<p>60376 rows × 1 columns</p>\n",
       "</div>"
      ],
      "text/plain": [
       "                                                     0\n",
       "A kidney for $10,000? Paying donors actually pa...  50\n",
       "Opinion: Why selling kidneys still won't work       50\n",
       "FDA proposes strict new  safety rules for anima...  49\n",
       "FDA approves more powerful painkiller               49\n",
       "Favre's 'scary' memory lapses re-open NFL concu...  48\n",
       "Tweeting bra exposed: Genuine support or public...  48\n",
       "North Dakota Catholics warned of possible hepat...  47\n",
       "Everyday Health Daily Digest is out!                42\n",
       "Get a $5 @wagdotcom gift to spend on your furry...  34\n",
       "Enter daily for a chance to #win our holiday #s...  26\n",
       "10 foods that boost your skin AND slim your wai...  22\n",
       "Make 2015 the year you clean up your diet, stri...  20\n",
       "9 foods to eat for a longer life:                   18\n",
       "Join us and @CanyonRanch for the #HealthTotalWe...  17\n",
       "Enjoy an aah-mazing weekend with HEALTH editors...  17\n",
       "Treat yourself to a transformative getaway at t...  16\n",
       "Give an aah-mazing gift and send someone specia...  15\n",
       "Enter daily for a chance to #win our holiday #s...  13\n",
       "Soda drinkers listen up! Here are 7 reasons why...  12\n",
       "9 eating habits that pack on the pounds:            12\n",
       "Red meat, and 6 more surprising foods that'll s...  11\n",
       "Fiber-rich foods to add to your diet ASAP:          11\n",
       "10 ways to cut 100 calories TODAY                   10\n",
       "Want to save even MORE money on #BlackFriday? S...  10\n",
       "10 Weeks to a #Slim New You! Sign up for Health...  10\n",
       "Discover a new you this year at the #HealthTota...  10\n",
       "10 health symptoms men shouldn't ignore             10\n",
       "ADHD characteristics can actually be a huge plu...  10\n",
       "Jump-start your weight loss with 30 days of exp...   9\n",
       "Enter our #sweepstakes for a chance to #win a t...   9\n",
       "...                                                 ..\n",
       "On eve of court ruling, Americans oppose contra...   1\n",
       "Calorie labels inaccurate, experts say               1\n",
       "Some Airports Have A New Security Routine: Taki...   1\n",
       "Obama Administration Mulls Rule To Give Home He...   1\n",
       "From Crock-Pots to 'Cook-Overs': Your Dinnertim...   1\n",
       "24 healthy, new recipes that include your favor...   1\n",
       "Poorer, Obese Adults Might Benefit From Behavio...   1\n",
       "VIDEO: Pfizer bid 'could delay' drugs                1\n",
       "Hepatitis C Treatment Wins Approval, but Price ...   1\n",
       "USDA shutters Foster Farms poultry plant over c...   1\n",
       "Today's top @SocietyGuardian story: NHS wastes ...   1\n",
       "NHS to target long waits for ops                     1\n",
       "Controversy surrounds 'fringe' heart treatment       1\n",
       "Today's #getfit tip @WomensHealthMag: Pre-cut y...   1\n",
       "Cancer Plus Chemo Might Put Your Job At Risk         1\n",
       "Quitting Smoking No Harder for Women Than Men, ...   1\n",
       "Use Caution in Ending Life Support for Brain-In...   1\n",
       "Protruding ears donâ€™t trigger assumptions abo...   1\n",
       "Ottawa will 'comply' with refugee health-care r...   1\n",
       "Don't miss: How has the NHS improved patient sa...   1\n",
       "Here's to fruit and veggies! New study finds #v...   1\n",
       "The diet that's good for your waistline and you...   1\n",
       "RT @CynthiaSass: @goodhealth Q1 Other challengi...   1\n",
       "Well: Think Like a Doctor: Stomach Bug Solved!       1\n",
       "Beautiful RT @ApothecaCanada: Eating Purple - 5...   1\n",
       "RT @ShirleySWangWSJ: Striking numbers: MT @WSJ:...   1\n",
       "How Much Bigger Is The Ebola Outbreak Than Offi...   1\n",
       "#WeHo woman fights to stay alive to raise her 2...   1\n",
       "Shinseki's Apology Punctuates A Long Career Of ...   1\n",
       "Polio Returns To Syria As Health System Crumbles     1\n",
       "\n",
       "[60376 rows x 1 columns]"
      ]
     },
     "execution_count": 6,
     "metadata": {},
     "output_type": "execute_result"
    }
   ],
   "source": [
    "health_df.apply(pd.value_counts) # Check and count all duplicated tweets"
   ]
  },
  {
   "cell_type": "code",
   "execution_count": 7,
   "metadata": {},
   "outputs": [],
   "source": [
    "health_df=health_df.drop_duplicates(keep='last') # Remove duplicated tweets"
   ]
  },
  {
   "cell_type": "code",
   "execution_count": 8,
   "metadata": {},
   "outputs": [
    {
     "data": {
      "text/html": [
       "<div>\n",
       "<style scoped>\n",
       "    .dataframe tbody tr th:only-of-type {\n",
       "        vertical-align: middle;\n",
       "    }\n",
       "\n",
       "    .dataframe tbody tr th {\n",
       "        vertical-align: top;\n",
       "    }\n",
       "\n",
       "    .dataframe thead th {\n",
       "        text-align: right;\n",
       "    }\n",
       "</style>\n",
       "<table border=\"1\" class=\"dataframe\">\n",
       "  <thead>\n",
       "    <tr style=\"text-align: right;\">\n",
       "      <th></th>\n",
       "      <th>0</th>\n",
       "    </tr>\n",
       "  </thead>\n",
       "  <tbody>\n",
       "    <tr>\n",
       "      <th>RT @cynthiasass: @goodhealth Q4 As a guest you don't have control over the menu, but you can bring dishes to give yourself more options #Taâ€¦</th>\n",
       "      <td>1</td>\n",
       "    </tr>\n",
       "    <tr>\n",
       "      <th>Here's one way that going to war can pay off in the long-run for individual warriors via @montemorin</th>\n",
       "      <td>1</td>\n",
       "    </tr>\n",
       "    <tr>\n",
       "      <th>Many Police Officers Battle Sleep Woes, Study Finds:</th>\n",
       "      <td>1</td>\n",
       "    </tr>\n",
       "    <tr>\n",
       "      <th>Trans fat ban proposed in U.S.</th>\n",
       "      <td>1</td>\n",
       "    </tr>\n",
       "    <tr>\n",
       "      <th>You CAN slim down and still eat carbs! Try these savory pizza and pasta dishes --&amp;gt;</th>\n",
       "      <td>1</td>\n",
       "    </tr>\n",
       "    <tr>\n",
       "      <th>U.S. #Ebola patient Nancy Writebol was released from hospital on Tues., source close to family tells @CNN</th>\n",
       "      <td>1</td>\n",
       "    </tr>\n",
       "    <tr>\n",
       "      <th>Not flexible? No problem! You can still do these #yoga moves:</th>\n",
       "      <td>1</td>\n",
       "    </tr>\n",
       "    <tr>\n",
       "      <th>House Republicans sue over Obama's healthcare law</th>\n",
       "      <td>1</td>\n",
       "    </tr>\n",
       "    <tr>\n",
       "      <th>Attention deficit leads US kids' mental health problems, CDC reports</th>\n",
       "      <td>1</td>\n",
       "    </tr>\n",
       "    <tr>\n",
       "      <th>RT @WSJThinkTank: 5 challenges for the second ACA open-enrollment season:</th>\n",
       "      <td>1</td>\n",
       "    </tr>\n",
       "    <tr>\n",
       "      <th>Administration Faces Opposition To Changes In Medicare Prescription Drug Program, @MaryAgnesCarey reports:</th>\n",
       "      <td>1</td>\n",
       "    </tr>\n",
       "    <tr>\n",
       "      <th>Ebola kills another leading physician in Africa</th>\n",
       "      <td>1</td>\n",
       "    </tr>\n",
       "    <tr>\n",
       "      <th>Spike In ER, Hospital Use Short-Lived After Calif. Medicaid Expansion</th>\n",
       "      <td>1</td>\n",
       "    </tr>\n",
       "    <tr>\n",
       "      <th>Detoxing? A Guide to Popular Juice Cleanses #diet #weightloss</th>\n",
       "      <td>1</td>\n",
       "    </tr>\n",
       "    <tr>\n",
       "      <th>Bodies dumped in streets as West Africa struggles to curb Ebola</th>\n",
       "      <td>1</td>\n",
       "    </tr>\n",
       "    <tr>\n",
       "      <th>Christmas is a happy time and this can often be the case in hospitals too</th>\n",
       "      <td>1</td>\n",
       "    </tr>\n",
       "    <tr>\n",
       "      <th>RT @cynthiasass: @goodhealth Q2 Skip the Thanksgiving foods that seem â€œmehâ€ and enjoy canâ€™t-live-without favorites #TalkNutrition</th>\n",
       "      <td>1</td>\n",
       "    </tr>\n",
       "    <tr>\n",
       "      <th>Bullying study: It does get better for gay teens</th>\n",
       "      <td>1</td>\n",
       "    </tr>\n",
       "    <tr>\n",
       "      <th>Learn how to land \"softly\" -- and prevent painful ACL tears:</th>\n",
       "      <td>1</td>\n",
       "    </tr>\n",
       "    <tr>\n",
       "      <th>Australia criticized for not sending medical staff to fight Ebola</th>\n",
       "      <td>1</td>\n",
       "    </tr>\n",
       "    <tr>\n",
       "      <th>RT @CynthiaSass: Q5 @goodhealth If you weigh in pre &amp;amp; post exercise aim for 2 cups of fluid (16 oz) for every pound of body weight lost #Taâ€¦</th>\n",
       "      <td>1</td>\n",
       "    </tr>\n",
       "    <tr>\n",
       "      <th>Docs and patients don't communicate, finds new study. Here's what to do</th>\n",
       "      <td>1</td>\n",
       "    </tr>\n",
       "    <tr>\n",
       "      <th>How Daily Habits Can Have Big Health Payoffs:</th>\n",
       "      <td>1</td>\n",
       "    </tr>\n",
       "    <tr>\n",
       "      <th>â€œA manâ€™s health can be judged by which he takes two at a time â€“ pills or stairs.â€ ~ Joan Welsh</th>\n",
       "      <td>1</td>\n",
       "    </tr>\n",
       "    <tr>\n",
       "      <th>Check out these 3 tips for staying healthy on spring break from @CarrotsNCake #diet #weightloss</th>\n",
       "      <td>1</td>\n",
       "    </tr>\n",
       "    <tr>\n",
       "      <th>New York Hospitals Shelve Rivalries For Proton Beam Project</th>\n",
       "      <td>1</td>\n",
       "    </tr>\n",
       "    <tr>\n",
       "      <th>W.H.O. Says Outbreak of Ebola Virus Is Outpacing Control Efforts</th>\n",
       "      <td>1</td>\n",
       "    </tr>\n",
       "    <tr>\n",
       "      <th>Most scarlet fever cases in 20 years</th>\n",
       "      <td>1</td>\n",
       "    </tr>\n",
       "    <tr>\n",
       "      <th>It's winter and the #NewYear. 2 big reasons your gym might be packed. @fitsugar has a strategy for those crowded days.</th>\n",
       "      <td>1</td>\n",
       "    </tr>\n",
       "    <tr>\n",
       "      <th>The change in gender balance in the NHS will bring some serious considerations, says Bruce Keogh #medwomen</th>\n",
       "      <td>1</td>\n",
       "    </tr>\n",
       "    <tr>\n",
       "      <th>...</th>\n",
       "      <td>...</td>\n",
       "    </tr>\n",
       "    <tr>\n",
       "      <th>Scientists taking Chinese medicine west</th>\n",
       "      <td>1</td>\n",
       "    </tr>\n",
       "    <tr>\n",
       "      <th>This marathoner didn't breathe for a month. Tune into @ErinBurnett at 7 p.m. ET for more on this story</th>\n",
       "      <td>1</td>\n",
       "    </tr>\n",
       "    <tr>\n",
       "      <th>If you force 10 nutritionists to order at @McDonalds, this is what they choose:</th>\n",
       "      <td>1</td>\n",
       "    </tr>\n",
       "    <tr>\n",
       "      <th>Experimental Ebola Vaccine Will Be Put To Human Test</th>\n",
       "      <td>1</td>\n",
       "    </tr>\n",
       "    <tr>\n",
       "      <th>Relax! It's doctor's orders. Kristin Fawcett explores the health benefits of #massage: c</th>\n",
       "      <td>1</td>\n",
       "    </tr>\n",
       "    <tr>\n",
       "      <th>RT @celiadugger: 1.5 million tons of flame retardants are used annually and get into everything from peanut butter to women's bodies.</th>\n",
       "      <td>1</td>\n",
       "    </tr>\n",
       "    <tr>\n",
       "      <th>RT @Jeffdelviscio: Want to know where Ebola started &amp;amp; why it's so hard to stop? Read @nytDeniseGrady &amp;amp; @sherifink</th>\n",
       "      <td>1</td>\n",
       "    </tr>\n",
       "    <tr>\n",
       "      <th>An untreatable virus is spreading in the Caribbean</th>\n",
       "      <td>1</td>\n",
       "    </tr>\n",
       "    <tr>\n",
       "      <th>RT @stefaniei: If Valeant buys Allergan, many docs would consider shifting their business: Sanford Bernstein survey.</th>\n",
       "      <td>1</td>\n",
       "    </tr>\n",
       "    <tr>\n",
       "      <th>You donâ€™t need to visit a 5-star retreat to take advantage of these top spa weight loss secrets:</th>\n",
       "      <td>1</td>\n",
       "    </tr>\n",
       "    <tr>\n",
       "      <th>If @Ali_Sweeney spots a parked car on her run, she'll sprint to it! You can also try walking lunges. Get resourceful!</th>\n",
       "      <td>1</td>\n",
       "    </tr>\n",
       "    <tr>\n",
       "      <th>Is your employer going to try to dodge #Obamacare fines?</th>\n",
       "      <td>1</td>\n",
       "    </tr>\n",
       "    <tr>\n",
       "      <th>Moving your valentine to one these 10 least expensive insurance markets might be a nice &amp;lt;3 Day gesture:</th>\n",
       "      <td>1</td>\n",
       "    </tr>\n",
       "    <tr>\n",
       "      <th>Health Insurers Race to Complete Enrollments</th>\n",
       "      <td>1</td>\n",
       "    </tr>\n",
       "    <tr>\n",
       "      <th>The Deadly Return Of Whooping Cough</th>\n",
       "      <td>1</td>\n",
       "    </tr>\n",
       "    <tr>\n",
       "      <th>Where are all the new antibiotics?</th>\n",
       "      <td>1</td>\n",
       "    </tr>\n",
       "    <tr>\n",
       "      <th>Some Stroke Survivors Can't Recognize Fear, Anger in Others:</th>\n",
       "      <td>1</td>\n",
       "    </tr>\n",
       "    <tr>\n",
       "      <th>30,000-year-old virus comes to life</th>\n",
       "      <td>1</td>\n",
       "    </tr>\n",
       "    <tr>\n",
       "      <th>Innovation: Who Made That Antiperspirant?</th>\n",
       "      <td>1</td>\n",
       "    </tr>\n",
       "    <tr>\n",
       "      <th>As deadly pig virus wanes, bacon prices shrink</th>\n",
       "      <td>1</td>\n",
       "    </tr>\n",
       "    <tr>\n",
       "      <th>Will Sen. Ron Johnson's challenge to the health law's subsidies be successful? #obamacare</th>\n",
       "      <td>1</td>\n",
       "    </tr>\n",
       "    <tr>\n",
       "      <th>Higher Blood Pressure At 18 Means Hardening Arteries At 40</th>\n",
       "      <td>1</td>\n",
       "    </tr>\n",
       "    <tr>\n",
       "      <th>Australia stops processing visas from Ebola-hit countries</th>\n",
       "      <td>1</td>\n",
       "    </tr>\n",
       "    <tr>\n",
       "      <th>Test for teen binge-drinking risk</th>\n",
       "      <td>1</td>\n",
       "    </tr>\n",
       "    <tr>\n",
       "      <th>Latino Enrollment Key To Success Of Health Law Marketplaces, @JennyAGold reports in @NPRNews:</th>\n",
       "      <td>1</td>\n",
       "    </tr>\n",
       "    <tr>\n",
       "      <th>Novo Nordisk drops inflammatory disorder business, incurs cost</th>\n",
       "      <td>1</td>\n",
       "    </tr>\n",
       "    <tr>\n",
       "      <th>Learning music early builds up brain's reserves against dementia</th>\n",
       "      <td>1</td>\n",
       "    </tr>\n",
       "    <tr>\n",
       "      <th>I have been sick for years and no problem. ... Now, it’s a huge problem.</th>\n",
       "      <td>1</td>\n",
       "    </tr>\n",
       "    <tr>\n",
       "      <th>Corner stores help clean up #obesity. @sanjayguptaCNN reports:</th>\n",
       "      <td>1</td>\n",
       "    </tr>\n",
       "    <tr>\n",
       "      <th>Polio Returns To Syria As Health System Crumbles</th>\n",
       "      <td>1</td>\n",
       "    </tr>\n",
       "  </tbody>\n",
       "</table>\n",
       "<p>60376 rows × 1 columns</p>\n",
       "</div>"
      ],
      "text/plain": [
       "                                                    0\n",
       "RT @cynthiasass: @goodhealth Q4 As a guest you ...  1\n",
       "Here's one way that going to war can pay off in...  1\n",
       "Many Police Officers Battle Sleep Woes, Study F...  1\n",
       "Trans fat ban proposed in U.S.                      1\n",
       "You CAN slim down and still eat carbs! Try thes...  1\n",
       "U.S. #Ebola patient Nancy Writebol was released...  1\n",
       "Not flexible? No problem! You can still do thes...  1\n",
       "House Republicans sue over Obama's healthcare law   1\n",
       "Attention deficit leads US kids' mental health ...  1\n",
       "RT @WSJThinkTank: 5 challenges for the second A...  1\n",
       "Administration Faces Opposition To Changes In M...  1\n",
       "Ebola kills another leading physician in Africa     1\n",
       "Spike In ER, Hospital Use Short-Lived After Cal...  1\n",
       "Detoxing? A Guide to Popular Juice Cleanses #di...  1\n",
       "Bodies dumped in streets as West Africa struggl...  1\n",
       "Christmas is a happy time and this can often be...  1\n",
       "RT @cynthiasass: @goodhealth Q2 Skip the Thanks...  1\n",
       "Bullying study: It does get better for gay teens    1\n",
       "Learn how to land \"softly\" -- and prevent painf...  1\n",
       "Australia criticized for not sending medical st...  1\n",
       "RT @CynthiaSass: Q5 @goodhealth If you weigh in...  1\n",
       "Docs and patients don't communicate, finds new ...  1\n",
       "How Daily Habits Can Have Big Health Payoffs:       1\n",
       "â€œA manâ€™s health can be judged by which he t...  1\n",
       "Check out these 3 tips for staying healthy on s...  1\n",
       "New York Hospitals Shelve Rivalries For Proton ...  1\n",
       "W.H.O. Says Outbreak of Ebola Virus Is Outpacin...  1\n",
       "Most scarlet fever cases in 20 years                1\n",
       "It's winter and the #NewYear. 2 big reasons you...  1\n",
       "The change in gender balance in the NHS will br...  1\n",
       "...                                                ..\n",
       "Scientists taking Chinese medicine west             1\n",
       "This marathoner didn't breathe for a month. Tun...  1\n",
       "If you force 10 nutritionists to order at @McDo...  1\n",
       "Experimental Ebola Vaccine Will Be Put To Human...  1\n",
       "Relax! It's doctor's orders. Kristin Fawcett ex...  1\n",
       "RT @celiadugger: 1.5 million tons of flame reta...  1\n",
       "RT @Jeffdelviscio: Want to know where Ebola sta...  1\n",
       "An untreatable virus is spreading in the Caribb...  1\n",
       "RT @stefaniei: If Valeant buys Allergan, many d...  1\n",
       "You donâ€™t need to visit a 5-star retreat to t...  1\n",
       "If @Ali_Sweeney spots a parked car on her run, ...  1\n",
       "Is your employer going to try to dodge #Obamaca...  1\n",
       "Moving your valentine to one these 10 least exp...  1\n",
       "Health Insurers Race to Complete Enrollments        1\n",
       "The Deadly Return Of Whooping Cough                 1\n",
       "Where are all the new antibiotics?                  1\n",
       "Some Stroke Survivors Can't Recognize Fear, Ang...  1\n",
       "30,000-year-old virus comes to life                 1\n",
       "Innovation: Who Made That Antiperspirant?           1\n",
       "As deadly pig virus wanes, bacon prices shrink      1\n",
       "Will Sen. Ron Johnson's challenge to the health...  1\n",
       "Higher Blood Pressure At 18 Means Hardening Art...  1\n",
       "Australia stops processing visas from Ebola-hit...  1\n",
       "Test for teen binge-drinking risk                   1\n",
       "Latino Enrollment Key To Success Of Health Law ...  1\n",
       "Novo Nordisk drops inflammatory disorder busine...  1\n",
       "Learning music early builds up brain's reserves...  1\n",
       "I have been sick for years and no problem. ... ...  1\n",
       "Corner stores help clean up #obesity. @sanjaygu...  1\n",
       "Polio Returns To Syria As Health System Crumbles    1\n",
       "\n",
       "[60376 rows x 1 columns]"
      ]
     },
     "execution_count": 8,
     "metadata": {},
     "output_type": "execute_result"
    }
   ],
   "source": [
    "health_df.apply(pd.value_counts)"
   ]
  },
  {
   "cell_type": "code",
   "execution_count": 9,
   "metadata": {},
   "outputs": [
    {
     "data": {
      "text/plain": [
       "60376"
      ]
     },
     "execution_count": 9,
     "metadata": {},
     "output_type": "execute_result"
    }
   ],
   "source": [
    "len(health_df) #Reduce tweets from 63207 to 60376"
   ]
  },
  {
   "cell_type": "markdown",
   "metadata": {},
   "source": [
    "# Data Cleaning - Import necessary dependencies"
   ]
  },
  {
   "cell_type": "code",
   "execution_count": 10,
   "metadata": {},
   "outputs": [],
   "source": [
    "import spacy\n",
    "import pandas as pd\n",
    "import numpy as np\n",
    "import nltk\n",
    "from nltk.tokenize.toktok import ToktokTokenizer\n",
    "import re\n",
    "from bs4 import BeautifulSoup\n",
    "from contractions import CONTRACTION_MAP\n",
    "import unicodedata\n",
    "\n",
    "# nltk.download('stopwords')\n",
    "# python -m spacy download en\n",
    "\n",
    "nlp = spacy.load('en', parse=True, tag=True, entity=True)\n",
    "tokenizer = ToktokTokenizer()\n",
    "stopword_list = nltk.corpus.stopwords.words('english')\n",
    "stopword_list.remove('no')\n",
    "stopword_list.remove('not')"
   ]
  },
  {
   "cell_type": "code",
   "execution_count": 11,
   "metadata": {},
   "outputs": [],
   "source": [
    "health_df1=health_df #Create health_df1 for the Text Normalizer"
   ]
  },
  {
   "cell_type": "code",
   "execution_count": 12,
   "metadata": {},
   "outputs": [],
   "source": [
    "health_df2=health_df #Create health_df2 as a back-up"
   ]
  },
  {
   "cell_type": "markdown",
   "metadata": {},
   "source": [
    "# Lowercase the text "
   ]
  },
  {
   "cell_type": "code",
   "execution_count": 13,
   "metadata": {},
   "outputs": [],
   "source": [
    "health_df=health_df[0].str.lower()"
   ]
  },
  {
   "cell_type": "code",
   "execution_count": 14,
   "metadata": {},
   "outputs": [
    {
     "data": {
      "text/plain": [
       "0                     breast cancer risk test devised \n",
       "1                 gp workload harming care - bma poll \n",
       "2                 short people's 'heart risk greater' \n",
       "3                new approach against hiv 'promising' \n",
       "4                coalition 'undermined nhs' - doctors \n",
       "5                  review of case against nhs manager \n",
       "6    video: 'all day is empty, what am i going to d...\n",
       "7       video: 'overhaul needed' for end-of-life care \n",
       "8                     care for dying 'needs overhaul' \n",
       "9            video: nhs: labour and tory key policies \n",
       "Name: 0, dtype: object"
      ]
     },
     "execution_count": 14,
     "metadata": {},
     "output_type": "execute_result"
    }
   ],
   "source": [
    "health_df.head(10)"
   ]
  },
  {
   "cell_type": "markdown",
   "metadata": {},
   "source": [
    "# Removing HTML Tags"
   ]
  },
  {
   "cell_type": "code",
   "execution_count": 15,
   "metadata": {},
   "outputs": [],
   "source": [
    "def strip_html_tags(text):\n",
    "    soup = BeautifulSoup(text, \"html.parser\")\n",
    "    stripped_text = soup.get_text()\n",
    "    return stripped_text\n",
    "\n",
    "health_df=health_df.apply(strip_html_tags)"
   ]
  },
  {
   "cell_type": "code",
   "execution_count": 16,
   "metadata": {},
   "outputs": [
    {
     "data": {
      "text/plain": [
       "0                     breast cancer risk test devised \n",
       "1                 gp workload harming care - bma poll \n",
       "2                 short people's 'heart risk greater' \n",
       "3                new approach against hiv 'promising' \n",
       "4                coalition 'undermined nhs' - doctors \n",
       "5                  review of case against nhs manager \n",
       "6    video: 'all day is empty, what am i going to d...\n",
       "7       video: 'overhaul needed' for end-of-life care \n",
       "8                     care for dying 'needs overhaul' \n",
       "9            video: nhs: labour and tory key policies \n",
       "Name: 0, dtype: object"
      ]
     },
     "execution_count": 16,
     "metadata": {},
     "output_type": "execute_result"
    }
   ],
   "source": [
    "health_df.head(10)"
   ]
  },
  {
   "cell_type": "markdown",
   "metadata": {},
   "source": [
    "# Removing accented characters"
   ]
  },
  {
   "cell_type": "code",
   "execution_count": 17,
   "metadata": {},
   "outputs": [],
   "source": [
    "def remove_accented_chars(text):\n",
    "    text = unicodedata.normalize('NFKD', text).encode('ascii', 'ignore').decode('utf-8', 'ignore')\n",
    "    return text\n",
    "\n",
    "health_df=health_df.apply(remove_accented_chars)"
   ]
  },
  {
   "cell_type": "code",
   "execution_count": 18,
   "metadata": {},
   "outputs": [
    {
     "data": {
      "text/plain": [
       "0                     breast cancer risk test devised \n",
       "1                 gp workload harming care - bma poll \n",
       "2                 short people's 'heart risk greater' \n",
       "3                new approach against hiv 'promising' \n",
       "4                coalition 'undermined nhs' - doctors \n",
       "5                  review of case against nhs manager \n",
       "6    video: 'all day is empty, what am i going to d...\n",
       "7       video: 'overhaul needed' for end-of-life care \n",
       "8                     care for dying 'needs overhaul' \n",
       "9            video: nhs: labour and tory key policies \n",
       "Name: 0, dtype: object"
      ]
     },
     "execution_count": 18,
     "metadata": {},
     "output_type": "execute_result"
    }
   ],
   "source": [
    "health_df.head(10)"
   ]
  },
  {
   "cell_type": "markdown",
   "metadata": {},
   "source": [
    "# Expanding Contractions"
   ]
  },
  {
   "cell_type": "code",
   "execution_count": 19,
   "metadata": {},
   "outputs": [],
   "source": [
    "def expand_contractions(text, contraction_mapping=CONTRACTION_MAP):\n",
    "    \n",
    "    contractions_pattern = re.compile('({})'.format('|'.join(contraction_mapping.keys())), \n",
    "                                      flags=re.IGNORECASE|re.DOTALL)\n",
    "    def expand_match(contraction):\n",
    "        match = contraction.group(0)\n",
    "        first_char = match[0]\n",
    "        expanded_contraction = contraction_mapping.get(match)\\\n",
    "                                if contraction_mapping.get(match)\\\n",
    "                                else contraction_mapping.get(match.lower())                       \n",
    "        expanded_contraction = first_char+expanded_contraction[1:]\n",
    "        return expanded_contraction\n",
    "        \n",
    "    expanded_text = contractions_pattern.sub(expand_match, text)\n",
    "    expanded_text = re.sub(\"'\", \"\", expanded_text)\n",
    "    return expanded_text\n",
    "\n",
    "health_df=health_df.apply(expand_contractions)"
   ]
  },
  {
   "cell_type": "code",
   "execution_count": 20,
   "metadata": {},
   "outputs": [
    {
     "data": {
      "text/plain": [
       "0                    breast cancer risk test devised \n",
       "1                gp workload harming care - bma poll \n",
       "2                   short peoples heart risk greater \n",
       "3                 new approach against hiv promising \n",
       "4                 coalition undermined nhs - doctors \n",
       "5                 review of case against nhs manager \n",
       "6    video: all day is empty, what am i going to do? \n",
       "7        video: overhaul needed for end-of-life care \n",
       "8                      care for dying needs overhaul \n",
       "9           video: nhs: labour and tory key policies \n",
       "Name: 0, dtype: object"
      ]
     },
     "execution_count": 20,
     "metadata": {},
     "output_type": "execute_result"
    }
   ],
   "source": [
    "health_df.head(10)"
   ]
  },
  {
   "cell_type": "markdown",
   "metadata": {},
   "source": [
    "# Removing Special Characters"
   ]
  },
  {
   "cell_type": "code",
   "execution_count": 21,
   "metadata": {},
   "outputs": [],
   "source": [
    "def remove_special_characters(text):\n",
    "    text = re.sub('[^a-zA-z0-9\\s]', '', text)\n",
    "    return text\n",
    "\n",
    "health_df=health_df.apply(remove_special_characters)"
   ]
  },
  {
   "cell_type": "code",
   "execution_count": 22,
   "metadata": {},
   "outputs": [
    {
     "data": {
      "text/plain": [
       "0                 breast cancer risk test devised \n",
       "1              gp workload harming care  bma poll \n",
       "2                short peoples heart risk greater \n",
       "3              new approach against hiv promising \n",
       "4               coalition undermined nhs  doctors \n",
       "5              review of case against nhs manager \n",
       "6    video all day is empty what am i going to do \n",
       "7        video overhaul needed for endoflife care \n",
       "8                   care for dying needs overhaul \n",
       "9          video nhs labour and tory key policies \n",
       "Name: 0, dtype: object"
      ]
     },
     "execution_count": 22,
     "metadata": {},
     "output_type": "execute_result"
    }
   ],
   "source": [
    "health_df.head(10)"
   ]
  },
  {
   "cell_type": "markdown",
   "metadata": {},
   "source": [
    "# Lemmatizing text"
   ]
  },
  {
   "cell_type": "code",
   "execution_count": 23,
   "metadata": {},
   "outputs": [],
   "source": [
    "def lemmatize_text(text):\n",
    "    text = nlp(text)\n",
    "    text = ' '.join([word.lemma_ if word.lemma_ != '-PRON-' else word.text for word in text])\n",
    "    return text\n",
    "\n",
    "health_df=health_df.apply(lemmatize_text)"
   ]
  },
  {
   "cell_type": "code",
   "execution_count": 24,
   "metadata": {},
   "outputs": [
    {
     "data": {
      "text/plain": [
       "0               breast cancer risk test devise\n",
       "1             gp workload harm care   bma poll\n",
       "2                short people heart risk great\n",
       "3           new approach against hiv promising\n",
       "4             coalition undermine nhs   doctor\n",
       "5           review of case against nhs manager\n",
       "6    video all day be empty what be i go to do\n",
       "7       video overhaul need for endoflife care\n",
       "8                   care for die need overhaul\n",
       "9         video nhs labour and tory key policy\n",
       "Name: 0, dtype: object"
      ]
     },
     "execution_count": 24,
     "metadata": {},
     "output_type": "execute_result"
    }
   ],
   "source": [
    "health_df.head(10)"
   ]
  },
  {
   "cell_type": "markdown",
   "metadata": {},
   "source": [
    "# Removing Stopwords"
   ]
  },
  {
   "cell_type": "code",
   "execution_count": 25,
   "metadata": {},
   "outputs": [],
   "source": [
    "def remove_stopwords(text, is_lower_case=False):\n",
    "    tokens = tokenizer.tokenize(text)\n",
    "    tokens = [token.strip() for token in tokens]\n",
    "    if is_lower_case:\n",
    "        filtered_tokens = [token for token in tokens if token not in stopword_list]\n",
    "    else:\n",
    "        filtered_tokens = [token for token in tokens if token.lower() not in stopword_list]\n",
    "    filtered_text = ' '.join(filtered_tokens)    \n",
    "    return filtered_text\n",
    "\n",
    "health_df=health_df.apply(remove_stopwords)"
   ]
  },
  {
   "cell_type": "code",
   "execution_count": 26,
   "metadata": {},
   "outputs": [
    {
     "data": {
      "text/plain": [
       "0        breast cancer risk test devise\n",
       "1        gp workload harm care bma poll\n",
       "2         short people heart risk great\n",
       "3            new approach hiv promising\n",
       "4        coalition undermine nhs doctor\n",
       "5               review case nhs manager\n",
       "6                    video day empty go\n",
       "7    video overhaul need endoflife care\n",
       "8                care die need overhaul\n",
       "9      video nhs labour tory key policy\n",
       "Name: 0, dtype: object"
      ]
     },
     "execution_count": 26,
     "metadata": {},
     "output_type": "execute_result"
    }
   ],
   "source": [
    "health_df.head(10)"
   ]
  },
  {
   "cell_type": "code",
   "execution_count": 27,
   "metadata": {},
   "outputs": [],
   "source": [
    "health_df.to_csv('D:\\\\Education\\\\York U\\\\ML 1010\\\\Group Project\\\\Dataset\\\\HealthNewsTweets_cleaned.csv',encoding='utf-8',index=False)"
   ]
  },
  {
   "cell_type": "markdown",
   "metadata": {},
   "source": [
    "# Normalize text corpus - tying it all together (Text Normalizer)"
   ]
  },
  {
   "cell_type": "code",
   "execution_count": 28,
   "metadata": {},
   "outputs": [],
   "source": [
    "def normalize_corpus(corpus, html_stripping=True, contraction_expansion=True,\n",
    "                     accented_char_removal=True, text_lower_case=True, \n",
    "                     text_lemmatization=True, special_char_removal=True, \n",
    "                     stopword_removal=True):\n",
    "    \n",
    "    normalized_corpus = []\n",
    "    # normalize each document in the corpus\n",
    "    for doc in corpus:\n",
    "        # strip HTML\n",
    "        if html_stripping:\n",
    "            doc = strip_html_tags(doc)\n",
    "        # remove accented characters\n",
    "        if accented_char_removal:\n",
    "            doc = remove_accented_chars(doc)\n",
    "        # expand contractions    \n",
    "        if contraction_expansion:\n",
    "            doc = expand_contractions(doc)\n",
    "        # lowercase the text    \n",
    "        if text_lower_case:\n",
    "            doc = doc.lower()\n",
    "        # remove extra newlines\n",
    "        doc = re.sub(r'[\\r|\\n|\\r\\n]+', ' ',doc)\n",
    "        # insert spaces between special characters to isolate them    \n",
    "        special_char_pattern = re.compile(r'([{.(-)!}])')\n",
    "        doc = special_char_pattern.sub(\" \\\\1 \", doc)\n",
    "        # lemmatize text\n",
    "        if text_lemmatization:\n",
    "            doc = lemmatize_text(doc)\n",
    "        # remove special characters    \n",
    "        if special_char_removal:\n",
    "            doc = remove_special_characters(doc)  \n",
    "        # remove extra whitespace\n",
    "        doc = re.sub(' +', ' ', doc)\n",
    "        # remove stopwords\n",
    "        if stopword_removal:\n",
    "            doc = remove_stopwords(doc, is_lower_case=text_lower_case)\n",
    "            \n",
    "        normalized_corpus.append(doc)\n",
    "        \n",
    "    return normalized_corpus"
   ]
  },
  {
   "cell_type": "code",
   "execution_count": 29,
   "metadata": {},
   "outputs": [],
   "source": [
    "health_df1=health_df1.apply(normalize_corpus)"
   ]
  },
  {
   "cell_type": "code",
   "execution_count": 30,
   "metadata": {},
   "outputs": [
    {
     "data": {
      "text/html": [
       "<div>\n",
       "<style scoped>\n",
       "    .dataframe tbody tr th:only-of-type {\n",
       "        vertical-align: middle;\n",
       "    }\n",
       "\n",
       "    .dataframe tbody tr th {\n",
       "        vertical-align: top;\n",
       "    }\n",
       "\n",
       "    .dataframe thead th {\n",
       "        text-align: right;\n",
       "    }\n",
       "</style>\n",
       "<table border=\"1\" class=\"dataframe\">\n",
       "  <thead>\n",
       "    <tr style=\"text-align: right;\">\n",
       "      <th></th>\n",
       "      <th>0</th>\n",
       "    </tr>\n",
       "  </thead>\n",
       "  <tbody>\n",
       "    <tr>\n",
       "      <th>0</th>\n",
       "      <td>breast cancer risk test devise</td>\n",
       "    </tr>\n",
       "    <tr>\n",
       "      <th>1</th>\n",
       "      <td>gp workload harm care bma poll</td>\n",
       "    </tr>\n",
       "    <tr>\n",
       "      <th>2</th>\n",
       "      <td>short people heart risk great</td>\n",
       "    </tr>\n",
       "    <tr>\n",
       "      <th>3</th>\n",
       "      <td>new approach hiv promising</td>\n",
       "    </tr>\n",
       "    <tr>\n",
       "      <th>4</th>\n",
       "      <td>coalition undermine nhs doctor</td>\n",
       "    </tr>\n",
       "    <tr>\n",
       "      <th>5</th>\n",
       "      <td>review case nhs manager</td>\n",
       "    </tr>\n",
       "    <tr>\n",
       "      <th>6</th>\n",
       "      <td>video day empty go</td>\n",
       "    </tr>\n",
       "    <tr>\n",
       "      <th>7</th>\n",
       "      <td>video overhaul need end life care</td>\n",
       "    </tr>\n",
       "    <tr>\n",
       "      <th>8</th>\n",
       "      <td>care die need overhaul</td>\n",
       "    </tr>\n",
       "    <tr>\n",
       "      <th>9</th>\n",
       "      <td>video nhs labour tory key policy</td>\n",
       "    </tr>\n",
       "  </tbody>\n",
       "</table>\n",
       "</div>"
      ],
      "text/plain": [
       "                                   0\n",
       "0     breast cancer risk test devise\n",
       "1     gp workload harm care bma poll\n",
       "2      short people heart risk great\n",
       "3         new approach hiv promising\n",
       "4     coalition undermine nhs doctor\n",
       "5            review case nhs manager\n",
       "6                 video day empty go\n",
       "7  video overhaul need end life care\n",
       "8             care die need overhaul\n",
       "9   video nhs labour tory key policy"
      ]
     },
     "execution_count": 30,
     "metadata": {},
     "output_type": "execute_result"
    }
   ],
   "source": [
    "health_df1.head(10)"
   ]
  },
  {
   "cell_type": "code",
   "execution_count": 32,
   "metadata": {},
   "outputs": [],
   "source": [
    "health_df1.to_csv('D:\\\\Education\\\\York U\\\\ML 1010\\\\Group Project\\\\Dataset\\\\HealthNewsTweets_normalizercleaned.csv',encoding='utf-8',index=False,header=None)"
   ]
  },
  {
   "cell_type": "code",
   "execution_count": null,
   "metadata": {},
   "outputs": [],
   "source": []
  }
 ],
 "metadata": {
  "kernelspec": {
   "display_name": "Python 3",
   "language": "python",
   "name": "python3"
  },
  "language_info": {
   "codemirror_mode": {
    "name": "ipython",
    "version": 3
   },
   "file_extension": ".py",
   "mimetype": "text/x-python",
   "name": "python",
   "nbconvert_exporter": "python",
   "pygments_lexer": "ipython3",
   "version": "3.7.0"
  }
 },
 "nbformat": 4,
 "nbformat_minor": 2
}
