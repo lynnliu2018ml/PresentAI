{
 "cells": [
  {
   "cell_type": "markdown",
   "metadata": {},
   "source": [
    "Reference: https://towardsdatascience.com/a-practitioners-guide-to-natural-language-processing-part-i-processing-understanding-text-9f4abfd13e72 <br>AND Annie's \"Text Normalization Demo.ipynb\""
   ]
  },
  {
   "cell_type": "markdown",
   "metadata": {},
   "source": [
    "# Data Exploratory"
   ]
  },
  {
   "cell_type": "code",
   "execution_count": 1,
   "metadata": {},
   "outputs": [],
   "source": [
    "import pandas as pd\n",
    "import numpy as np\n",
    "import matplotlib.pyplot as plt\n",
    "import seaborn as sns\n",
    "import os\n",
    "%matplotlib inline"
   ]
  },
  {
   "cell_type": "code",
   "execution_count": 2,
   "metadata": {},
   "outputs": [],
   "source": [
    "health_df = pd.read_csv('D:\\\\Education\\\\York U\\\\ML 1010\\\\Group Project\\\\Dataset\\\\HealthNewsTweets.csv', header=None)"
   ]
  },
  {
   "cell_type": "code",
   "execution_count": 3,
   "metadata": {},
   "outputs": [
    {
     "data": {
      "text/plain": [
       "pandas.core.frame.DataFrame"
      ]
     },
     "execution_count": 3,
     "metadata": {},
     "output_type": "execute_result"
    }
   ],
   "source": [
    "type(health_df)"
   ]
  },
  {
   "cell_type": "code",
   "execution_count": 4,
   "metadata": {},
   "outputs": [
    {
     "data": {
      "text/plain": [
       "63207"
      ]
     },
     "execution_count": 4,
     "metadata": {},
     "output_type": "execute_result"
    }
   ],
   "source": [
    "len(health_df)"
   ]
  },
  {
   "cell_type": "code",
   "execution_count": 5,
   "metadata": {},
   "outputs": [
    {
     "data": {
      "text/html": [
       "<div>\n",
       "<style scoped>\n",
       "    .dataframe tbody tr th:only-of-type {\n",
       "        vertical-align: middle;\n",
       "    }\n",
       "\n",
       "    .dataframe tbody tr th {\n",
       "        vertical-align: top;\n",
       "    }\n",
       "\n",
       "    .dataframe thead th {\n",
       "        text-align: right;\n",
       "    }\n",
       "</style>\n",
       "<table border=\"1\" class=\"dataframe\">\n",
       "  <thead>\n",
       "    <tr style=\"text-align: right;\">\n",
       "      <th></th>\n",
       "      <th>0</th>\n",
       "    </tr>\n",
       "  </thead>\n",
       "  <tbody>\n",
       "    <tr>\n",
       "      <th>0</th>\n",
       "      <td>Breast cancer risk test devised</td>\n",
       "    </tr>\n",
       "    <tr>\n",
       "      <th>1</th>\n",
       "      <td>GP workload harming care - BMA poll</td>\n",
       "    </tr>\n",
       "    <tr>\n",
       "      <th>2</th>\n",
       "      <td>Short people's 'heart risk greater'</td>\n",
       "    </tr>\n",
       "    <tr>\n",
       "      <th>3</th>\n",
       "      <td>New approach against HIV 'promising'</td>\n",
       "    </tr>\n",
       "    <tr>\n",
       "      <th>4</th>\n",
       "      <td>Coalition 'undermined NHS' - doctors</td>\n",
       "    </tr>\n",
       "  </tbody>\n",
       "</table>\n",
       "</div>"
      ],
      "text/plain": [
       "                                       0\n",
       "0       Breast cancer risk test devised \n",
       "1   GP workload harming care - BMA poll \n",
       "2   Short people's 'heart risk greater' \n",
       "3  New approach against HIV 'promising' \n",
       "4  Coalition 'undermined NHS' - doctors "
      ]
     },
     "execution_count": 5,
     "metadata": {},
     "output_type": "execute_result"
    }
   ],
   "source": [
    "health_df.head(5) # The function can also be done by \"health_df[:5]\" or \"print(health_df[:5])\""
   ]
  },
  {
   "cell_type": "code",
   "execution_count": 6,
   "metadata": {},
   "outputs": [
    {
     "data": {
      "text/html": [
       "<div>\n",
       "<style scoped>\n",
       "    .dataframe tbody tr th:only-of-type {\n",
       "        vertical-align: middle;\n",
       "    }\n",
       "\n",
       "    .dataframe tbody tr th {\n",
       "        vertical-align: top;\n",
       "    }\n",
       "\n",
       "    .dataframe thead th {\n",
       "        text-align: right;\n",
       "    }\n",
       "</style>\n",
       "<table border=\"1\" class=\"dataframe\">\n",
       "  <thead>\n",
       "    <tr style=\"text-align: right;\">\n",
       "      <th></th>\n",
       "      <th>0</th>\n",
       "    </tr>\n",
       "  </thead>\n",
       "  <tbody>\n",
       "    <tr>\n",
       "      <th>Opinion: Why selling kidneys still won't work</th>\n",
       "      <td>50</td>\n",
       "    </tr>\n",
       "    <tr>\n",
       "      <th>A kidney for $10,000? Paying donors actually pays off, new study finds</th>\n",
       "      <td>50</td>\n",
       "    </tr>\n",
       "    <tr>\n",
       "      <th>FDA approves more powerful painkiller</th>\n",
       "      <td>49</td>\n",
       "    </tr>\n",
       "    <tr>\n",
       "      <th>FDA proposes strict new  safety rules for animal food</th>\n",
       "      <td>49</td>\n",
       "    </tr>\n",
       "    <tr>\n",
       "      <th>Tweeting bra exposed: Genuine support or publicity lift?</th>\n",
       "      <td>48</td>\n",
       "    </tr>\n",
       "    <tr>\n",
       "      <th>Favre's 'scary' memory lapses re-open NFL concussion questions</th>\n",
       "      <td>48</td>\n",
       "    </tr>\n",
       "    <tr>\n",
       "      <th>North Dakota Catholics warned of possible hepatitis exposure from bishop during communion</th>\n",
       "      <td>47</td>\n",
       "    </tr>\n",
       "    <tr>\n",
       "      <th>Everyday Health Daily Digest is out!</th>\n",
       "      <td>42</td>\n",
       "    </tr>\n",
       "    <tr>\n",
       "      <th>Get a $5 @wagdotcom gift to spend on your furry friend when you purchase 1 of these premium pet foods:</th>\n",
       "      <td>34</td>\n",
       "    </tr>\n",
       "    <tr>\n",
       "      <th>Enter daily for a chance to #win our holiday #sweepstakes! Fab weekly #prizes (e.g. Dyson vacuum) + $10,000 grand prize</th>\n",
       "      <td>26</td>\n",
       "    </tr>\n",
       "    <tr>\n",
       "      <th>10 foods that boost your skin AND slim your waistline:</th>\n",
       "      <td>22</td>\n",
       "    </tr>\n",
       "    <tr>\n",
       "      <th>Make 2015 the year you clean up your diet, strip away stress, and lose weight. This @CoziFamily checklist will help:</th>\n",
       "      <td>20</td>\n",
       "    </tr>\n",
       "    <tr>\n",
       "      <th>9 foods to eat for a longer life:</th>\n",
       "      <td>18</td>\n",
       "    </tr>\n",
       "    <tr>\n",
       "      <th>Join us and @CanyonRanch for the #HealthTotalWellness weekend. Exclusive offer with code HealthTotalWellness at</th>\n",
       "      <td>17</td>\n",
       "    </tr>\n",
       "    <tr>\n",
       "      <th>Enjoy an aah-mazing weekend with HEALTH editors at @CanyonRanch. Exclusive offer with code HealthTotalWellness</th>\n",
       "      <td>17</td>\n",
       "    </tr>\n",
       "    <tr>\n",
       "      <th>Treat yourself to a transformative getaway at the #HealthTotalWellness weekend at @CanyonRanch! Details here:</th>\n",
       "      <td>16</td>\n",
       "    </tr>\n",
       "    <tr>\n",
       "      <th>Give an aah-mazing gift and send someone special to the #HealthTotalWellness weekend at @CanyonRanch!</th>\n",
       "      <td>15</td>\n",
       "    </tr>\n",
       "    <tr>\n",
       "      <th>Enter daily for a chance to #win our holiday #sweepstakes! Weekly #prizes (e.g. $500 gift card) + $10,000 grand prize</th>\n",
       "      <td>13</td>\n",
       "    </tr>\n",
       "    <tr>\n",
       "      <th>Soda drinkers listen up! Here are 7 reasons why you should kick the soda habit:</th>\n",
       "      <td>12</td>\n",
       "    </tr>\n",
       "    <tr>\n",
       "      <th>9 eating habits that pack on the pounds:</th>\n",
       "      <td>12</td>\n",
       "    </tr>\n",
       "    <tr>\n",
       "      <th>Red meat, and 6 more surprising foods that'll spike your blood sugar:</th>\n",
       "      <td>11</td>\n",
       "    </tr>\n",
       "    <tr>\n",
       "      <th>Fiber-rich foods to add to your diet ASAP:</th>\n",
       "      <td>11</td>\n",
       "    </tr>\n",
       "    <tr>\n",
       "      <th>Want to save even MORE money on #BlackFriday? Sign up for special coupon codes with the @CoziFamily app!</th>\n",
       "      <td>10</td>\n",
       "    </tr>\n",
       "    <tr>\n",
       "      <th>Discover a new you this year at the #HealthTotalWellness weekend at @CanyonRanch! Get more details here:</th>\n",
       "      <td>10</td>\n",
       "    </tr>\n",
       "    <tr>\n",
       "      <th>ADHD characteristics can actually be a huge plus in choosing a career. Here, the most ADHD-friendly jobs:</th>\n",
       "      <td>10</td>\n",
       "    </tr>\n",
       "    <tr>\n",
       "      <th>10 ways to cut 100 calories TODAY</th>\n",
       "      <td>10</td>\n",
       "    </tr>\n",
       "    <tr>\n",
       "      <th>10 Weeks to a #Slim New You! Sign up for Health's first ever email series to get tips, advice, #workouts, &amp;amp; #recipes!</th>\n",
       "      <td>10</td>\n",
       "    </tr>\n",
       "    <tr>\n",
       "      <th>10 health symptoms men shouldn't ignore</th>\n",
       "      <td>10</td>\n",
       "    </tr>\n",
       "    <tr>\n",
       "      <th>Like what we're sharing? Get more of the #health news, #recipes, and #workouts you like with one of our newsletters:</th>\n",
       "      <td>9</td>\n",
       "    </tr>\n",
       "    <tr>\n",
       "      <th>Enter our #sweepstakes for a chance to #win a trip for 2 to Gansevoort Turks &amp;amp; Caicos! (Airfaire, #spa treatments, etc)</th>\n",
       "      <td>9</td>\n",
       "    </tr>\n",
       "    <tr>\n",
       "      <th>...</th>\n",
       "      <td>...</td>\n",
       "    </tr>\n",
       "    <tr>\n",
       "      <th>New York Checks Suspected Ebola Patient</th>\n",
       "      <td>1</td>\n",
       "    </tr>\n",
       "    <tr>\n",
       "      <th>Obama says Ebola fight not close to being over</th>\n",
       "      <td>1</td>\n",
       "    </tr>\n",
       "    <tr>\n",
       "      <th>Estrogen-Only Therapy May Reduce Breast Cancer Risk:</th>\n",
       "      <td>1</td>\n",
       "    </tr>\n",
       "    <tr>\n",
       "      <th>Do you skip the carbs at dinner? Common #diet mistake, says @KeriGans. Here's 6 more:</th>\n",
       "      <td>1</td>\n",
       "    </tr>\n",
       "    <tr>\n",
       "      <th>Kids' Perception Of Parents' Favoritism Counts More Than Reality</th>\n",
       "      <td>1</td>\n",
       "    </tr>\n",
       "    <tr>\n",
       "      <th>FDA finds fungus, bacteria in recalled pain shots</th>\n",
       "      <td>1</td>\n",
       "    </tr>\n",
       "    <tr>\n",
       "      <th>Racial gaps in diabetes not tied to social, economic status</th>\n",
       "      <td>1</td>\n",
       "    </tr>\n",
       "    <tr>\n",
       "      <th>Web Buzz: Rating restaurants on their allergy friendliness</th>\n",
       "      <td>1</td>\n",
       "    </tr>\n",
       "    <tr>\n",
       "      <th>IV Shortage Hits Rural Clinics Hard</th>\n",
       "      <td>1</td>\n",
       "    </tr>\n",
       "    <tr>\n",
       "      <th>Hate dieting? Here's how to burn #calories and lose 5 pounds just by making smarter choices all day long. #weightloss</th>\n",
       "      <td>1</td>\n",
       "    </tr>\n",
       "    <tr>\n",
       "      <th>More Aggressive Chemo May Help Younger Lymphoma Patients: Study:</th>\n",
       "      <td>1</td>\n",
       "    </tr>\n",
       "    <tr>\n",
       "      <th>Today's cartoon: Three kings?</th>\n",
       "      <td>1</td>\n",
       "    </tr>\n",
       "    <tr>\n",
       "      <th>U.S. Offers Health-Care Pamphlets in Spanish:</th>\n",
       "      <td>1</td>\n",
       "    </tr>\n",
       "    <tr>\n",
       "      <th>In mere seconds, these volunteer nurses became a trauma team</th>\n",
       "      <td>1</td>\n",
       "    </tr>\n",
       "    <tr>\n",
       "      <th>Why Health Officials Want You To Eat More Potassium</th>\n",
       "      <td>1</td>\n",
       "    </tr>\n",
       "    <tr>\n",
       "      <th>Ex-pro wrestlers sue @WWE over #concussions that caused injury</th>\n",
       "      <td>1</td>\n",
       "    </tr>\n",
       "    <tr>\n",
       "      <th>Alex's Lemonade Stand Surpasses Goal by More Than $79 Million</th>\n",
       "      <td>1</td>\n",
       "    </tr>\n",
       "    <tr>\n",
       "      <th>The @AmericanCancer Society forecasts 18.9 million cancer survivors in the US in 2024. You? Someone you know?</th>\n",
       "      <td>1</td>\n",
       "    </tr>\n",
       "    <tr>\n",
       "      <th>Spinach, nectarines, strawberries and more foods you should buy organic:</th>\n",
       "      <td>1</td>\n",
       "    </tr>\n",
       "    <tr>\n",
       "      <th>Mental patient' costumes pulled from British stores</th>\n",
       "      <td>1</td>\n",
       "    </tr>\n",
       "    <tr>\n",
       "      <th>$2 hospital meals could cause malnutrition, dietitians warn</th>\n",
       "      <td>1</td>\n",
       "    </tr>\n",
       "    <tr>\n",
       "      <th>The timeline of the man with Ebolaâ€™s arrival to United States.</th>\n",
       "      <td>1</td>\n",
       "    </tr>\n",
       "    <tr>\n",
       "      <th>RT @TomBurtonWSJ: Analysis of Jeep #crash data by @WSJ shows how NHTSA and companies can wait years to recall cars despite deaths.</th>\n",
       "      <td>1</td>\n",
       "    </tr>\n",
       "    <tr>\n",
       "      <th>App aims to help doctors monitor young patients’ hearts</th>\n",
       "      <td>1</td>\n",
       "    </tr>\n",
       "    <tr>\n",
       "      <th>RT @CNNMoney: Dog yoga. It's a thing.</th>\n",
       "      <td>1</td>\n",
       "    </tr>\n",
       "    <tr>\n",
       "      <th>What happens during a stroke</th>\n",
       "      <td>1</td>\n",
       "    </tr>\n",
       "    <tr>\n",
       "      <th>RT @kavitapmd: And here is where you can find your nearest #flu shot:</th>\n",
       "      <td>1</td>\n",
       "    </tr>\n",
       "    <tr>\n",
       "      <th>Sierra Leone declares emergency as Ebola death toll hits 729</th>\n",
       "      <td>1</td>\n",
       "    </tr>\n",
       "    <tr>\n",
       "      <th>Occasional Pot Smoking Won't Harm Lungs: Study:</th>\n",
       "      <td>1</td>\n",
       "    </tr>\n",
       "    <tr>\n",
       "      <th>For a slim sweet treat tonight, whip up a batch of our #recipe of the day, Mini Whoopie Pies!</th>\n",
       "      <td>1</td>\n",
       "    </tr>\n",
       "  </tbody>\n",
       "</table>\n",
       "<p>60376 rows × 1 columns</p>\n",
       "</div>"
      ],
      "text/plain": [
       "                                                     0\n",
       "Opinion: Why selling kidneys still won't work       50\n",
       "A kidney for $10,000? Paying donors actually pa...  50\n",
       "FDA approves more powerful painkiller               49\n",
       "FDA proposes strict new  safety rules for anima...  49\n",
       "Tweeting bra exposed: Genuine support or public...  48\n",
       "Favre's 'scary' memory lapses re-open NFL concu...  48\n",
       "North Dakota Catholics warned of possible hepat...  47\n",
       "Everyday Health Daily Digest is out!                42\n",
       "Get a $5 @wagdotcom gift to spend on your furry...  34\n",
       "Enter daily for a chance to #win our holiday #s...  26\n",
       "10 foods that boost your skin AND slim your wai...  22\n",
       "Make 2015 the year you clean up your diet, stri...  20\n",
       "9 foods to eat for a longer life:                   18\n",
       "Join us and @CanyonRanch for the #HealthTotalWe...  17\n",
       "Enjoy an aah-mazing weekend with HEALTH editors...  17\n",
       "Treat yourself to a transformative getaway at t...  16\n",
       "Give an aah-mazing gift and send someone specia...  15\n",
       "Enter daily for a chance to #win our holiday #s...  13\n",
       "Soda drinkers listen up! Here are 7 reasons why...  12\n",
       "9 eating habits that pack on the pounds:            12\n",
       "Red meat, and 6 more surprising foods that'll s...  11\n",
       "Fiber-rich foods to add to your diet ASAP:          11\n",
       "Want to save even MORE money on #BlackFriday? S...  10\n",
       "Discover a new you this year at the #HealthTota...  10\n",
       "ADHD characteristics can actually be a huge plu...  10\n",
       "10 ways to cut 100 calories TODAY                   10\n",
       "10 Weeks to a #Slim New You! Sign up for Health...  10\n",
       "10 health symptoms men shouldn't ignore             10\n",
       "Like what we're sharing? Get more of the #healt...   9\n",
       "Enter our #sweepstakes for a chance to #win a t...   9\n",
       "...                                                 ..\n",
       "New York Checks Suspected Ebola Patient              1\n",
       "Obama says Ebola fight not close to being over       1\n",
       "Estrogen-Only Therapy May Reduce Breast Cancer ...   1\n",
       "Do you skip the carbs at dinner? Common #diet m...   1\n",
       "Kids' Perception Of Parents' Favoritism Counts ...   1\n",
       "FDA finds fungus, bacteria in recalled pain shots    1\n",
       "Racial gaps in diabetes not tied to social, eco...   1\n",
       "Web Buzz: Rating restaurants on their allergy f...   1\n",
       "IV Shortage Hits Rural Clinics Hard                  1\n",
       "Hate dieting? Here's how to burn #calories and ...   1\n",
       "More Aggressive Chemo May Help Younger Lymphoma...   1\n",
       "Today's cartoon: Three kings?                        1\n",
       "U.S. Offers Health-Care Pamphlets in Spanish:        1\n",
       "In mere seconds, these volunteer nurses became ...   1\n",
       "Why Health Officials Want You To Eat More Potas...   1\n",
       "Ex-pro wrestlers sue @WWE over #concussions tha...   1\n",
       "Alex's Lemonade Stand Surpasses Goal by More Th...   1\n",
       "The @AmericanCancer Society forecasts 18.9 mill...   1\n",
       "Spinach, nectarines, strawberries and more food...   1\n",
       "Mental patient' costumes pulled from British st...   1\n",
       "$2 hospital meals could cause malnutrition, die...   1\n",
       "The timeline of the man with Ebolaâ€™s arrival ...   1\n",
       "RT @TomBurtonWSJ: Analysis of Jeep #crash data ...   1\n",
       "App aims to help doctors monitor young patients...   1\n",
       "RT @CNNMoney: Dog yoga. It's a thing.                1\n",
       "What happens during a stroke                         1\n",
       "RT @kavitapmd: And here is where you can find y...   1\n",
       "Sierra Leone declares emergency as Ebola death ...   1\n",
       "Occasional Pot Smoking Won't Harm Lungs: Study:      1\n",
       "For a slim sweet treat tonight, whip up a batch...   1\n",
       "\n",
       "[60376 rows x 1 columns]"
      ]
     },
     "execution_count": 6,
     "metadata": {},
     "output_type": "execute_result"
    }
   ],
   "source": [
    "health_df.apply(pd.value_counts) # Check and count all duplicated tweets"
   ]
  },
  {
   "cell_type": "code",
   "execution_count": 7,
   "metadata": {},
   "outputs": [],
   "source": [
    "health_df=health_df.drop_duplicates(keep='last') # Remove duplicated tweets"
   ]
  },
  {
   "cell_type": "code",
   "execution_count": 8,
   "metadata": {},
   "outputs": [
    {
     "data": {
      "text/html": [
       "<div>\n",
       "<style scoped>\n",
       "    .dataframe tbody tr th:only-of-type {\n",
       "        vertical-align: middle;\n",
       "    }\n",
       "\n",
       "    .dataframe tbody tr th {\n",
       "        vertical-align: top;\n",
       "    }\n",
       "\n",
       "    .dataframe thead th {\n",
       "        text-align: right;\n",
       "    }\n",
       "</style>\n",
       "<table border=\"1\" class=\"dataframe\">\n",
       "  <thead>\n",
       "    <tr style=\"text-align: right;\">\n",
       "      <th></th>\n",
       "      <th>0</th>\n",
       "    </tr>\n",
       "  </thead>\n",
       "  <tbody>\n",
       "    <tr>\n",
       "      <th>RT @stefaniei: Doctors Without Borders shouldering the lions share of Ebola care in Africa, but stretched thin.</th>\n",
       "      <td>1</td>\n",
       "    </tr>\n",
       "    <tr>\n",
       "      <th>Testosterone Rises in Both Sexes as Love Ignites</th>\n",
       "      <td>1</td>\n",
       "    </tr>\n",
       "    <tr>\n",
       "      <th>What Consumers Need To Know About The Obama Plan For Canceled Health Policies</th>\n",
       "      <td>1</td>\n",
       "    </tr>\n",
       "    <tr>\n",
       "      <th>Man in U.S. With Ebola Had Been Screened to Fly, but System is Spotty</th>\n",
       "      <td>1</td>\n",
       "    </tr>\n",
       "    <tr>\n",
       "      <th>Stem cell windpipe gives girl 'her only chance'</th>\n",
       "      <td>1</td>\n",
       "    </tr>\n",
       "    <tr>\n",
       "      <th>No Ebola, S'il Vous Plait, We're French: The Ivory Coast Mindset</th>\n",
       "      <td>1</td>\n",
       "    </tr>\n",
       "    <tr>\n",
       "      <th>$10,000 to abort? Surrogacy case reveals moral holes</th>\n",
       "      <td>1</td>\n",
       "    </tr>\n",
       "    <tr>\n",
       "      <th>RT @dreenaburton: @EverydayHealth A5: Frozen ?Çÿpantry?ÇÖ: whole-grain breads/tortillas, frozen org fruits, frozen cooked batches beans/hummus/soups. #healthtalk</th>\n",
       "      <td>1</td>\n",
       "    </tr>\n",
       "    <tr>\n",
       "      <th>Ontario 1st province to add 'bubble boy' screening for newborns</th>\n",
       "      <td>1</td>\n",
       "    </tr>\n",
       "    <tr>\n",
       "      <th>Good morning! Cold-pressed juice or blended smoothie? We'll help you decide:</th>\n",
       "      <td>1</td>\n",
       "    </tr>\n",
       "    <tr>\n",
       "      <th>Promised Help To Fight Ebola Arriving At 'Speed Of A Turtle'</th>\n",
       "      <td>1</td>\n",
       "    </tr>\n",
       "    <tr>\n",
       "      <th>Where does that urine sample go? @lisaespo goes behind the scenes of hospital labs:</th>\n",
       "      <td>1</td>\n",
       "    </tr>\n",
       "    <tr>\n",
       "      <th>Takeda appoints Sanofi's Andrew Plump to lead global R&amp;amp;D</th>\n",
       "      <td>1</td>\n",
       "    </tr>\n",
       "    <tr>\n",
       "      <th>Questions Rise As Health Care Exchange Draws Near</th>\n",
       "      <td>1</td>\n",
       "    </tr>\n",
       "    <tr>\n",
       "      <th>Australian government backs down on planned changes to universal healthcare</th>\n",
       "      <td>1</td>\n",
       "    </tr>\n",
       "    <tr>\n",
       "      <th>The surprising reason breast-feeding might hurt</th>\n",
       "      <td>1</td>\n",
       "    </tr>\n",
       "    <tr>\n",
       "      <th>Texas Caregiver Confirmed as Second U.S. Ebola Case</th>\n",
       "      <td>1</td>\n",
       "    </tr>\n",
       "    <tr>\n",
       "      <th>More couples opting to sleep in separate beds, study suggests</th>\n",
       "      <td>1</td>\n",
       "    </tr>\n",
       "    <tr>\n",
       "      <th>Ebola Teams Train To Respond To New U.S. Cases At A Moment's Notice</th>\n",
       "      <td>1</td>\n",
       "    </tr>\n",
       "    <tr>\n",
       "      <th>Johnson &amp;amp; Johnson to Begin Testing Ebola Vaccine in January</th>\n",
       "      <td>1</td>\n",
       "    </tr>\n",
       "    <tr>\n",
       "      <th>Stressed out? Stop obsessing about Bad Things That Could Happen</th>\n",
       "      <td>1</td>\n",
       "    </tr>\n",
       "    <tr>\n",
       "      <th>SCA says ready to fight P&amp;amp;G in incontinence care market</th>\n",
       "      <td>1</td>\n",
       "    </tr>\n",
       "    <tr>\n",
       "      <th>My feelings at the end of the day will be almost entirely dependent on how the sessions went</th>\n",
       "      <td>1</td>\n",
       "    </tr>\n",
       "    <tr>\n",
       "      <th>When a gun joins a household, the risk of being shot and killed rises much more sharply for woman than for men.</th>\n",
       "      <td>1</td>\n",
       "    </tr>\n",
       "    <tr>\n",
       "      <th>Books: In 'Doctored,' Shortcomings of Health Care and Doctor</th>\n",
       "      <td>1</td>\n",
       "    </tr>\n",
       "    <tr>\n",
       "      <th>RT @paula_span: A son's small but satisfying victory vs insurers in Virginia: Certified mail when a long term care policy is lapsing</th>\n",
       "      <td>1</td>\n",
       "    </tr>\n",
       "    <tr>\n",
       "      <th>Gun suicides far more common than homicides</th>\n",
       "      <td>1</td>\n",
       "    </tr>\n",
       "    <tr>\n",
       "      <th>The New Old Age Blog: Dialysis Takes a Toll</th>\n",
       "      <td>1</td>\n",
       "    </tr>\n",
       "    <tr>\n",
       "      <th>RT @stefaniei: When doctors use Google Glass for patient visits.</th>\n",
       "      <td>1</td>\n",
       "    </tr>\n",
       "    <tr>\n",
       "      <th>FDA Approves Injection to Counteract Painkiller Overdose</th>\n",
       "      <td>1</td>\n",
       "    </tr>\n",
       "    <tr>\n",
       "      <th>...</th>\n",
       "      <td>...</td>\n",
       "    </tr>\n",
       "    <tr>\n",
       "      <th>Get the barbecue flavor without the grilling with our #Recipeoftheday: Barbecue Chicken #Pizza:</th>\n",
       "      <td>1</td>\n",
       "    </tr>\n",
       "    <tr>\n",
       "      <th>Top Scientists Suggest A Few Fixes For Medical Funding Crisis</th>\n",
       "      <td>1</td>\n",
       "    </tr>\n",
       "    <tr>\n",
       "      <th>Siemens paves way to hive off healthcare: sources</th>\n",
       "      <td>1</td>\n",
       "    </tr>\n",
       "    <tr>\n",
       "      <th>RT @eatsmartbd: A3 Would u keep giving a plant water just because you're bored? Prob not, so why keep eating when bored? Find smthg else to do! #healthtalk</th>\n",
       "      <td>1</td>\n",
       "    </tr>\n",
       "    <tr>\n",
       "      <th>The New Old Age Blog: How to Complain to Medicare</th>\n",
       "      <td>1</td>\n",
       "    </tr>\n",
       "    <tr>\n",
       "      <th>Mali government declares country Ebola-free</th>\n",
       "      <td>1</td>\n",
       "    </tr>\n",
       "    <tr>\n",
       "      <th>Policy questioned after nurse refuses to do CPR</th>\n",
       "      <td>1</td>\n",
       "    </tr>\n",
       "    <tr>\n",
       "      <th>RT @thebendigirl: Kepp your snacks light--Smaller #Snack Portions Just as #Satisfying!</th>\n",
       "      <td>1</td>\n",
       "    </tr>\n",
       "    <tr>\n",
       "      <th>Reactions: Readersâ€™ Thoughts on Spotless Minds and Big Weddings</th>\n",
       "      <td>1</td>\n",
       "    </tr>\n",
       "    <tr>\n",
       "      <th>Sierra Leone to Impose 3-Day Ebola Quarantine</th>\n",
       "      <td>1</td>\n",
       "    </tr>\n",
       "    <tr>\n",
       "      <th>Study: More time in the kitchen = INCREASED risk for #heartdisease &amp;amp; #diabetes. What's going on?</th>\n",
       "      <td>1</td>\n",
       "    </tr>\n",
       "    <tr>\n",
       "      <th>Big data: enabling the future of healthcare</th>\n",
       "      <td>1</td>\n",
       "    </tr>\n",
       "    <tr>\n",
       "      <th>Shopping spree? Oh, yes! Enter to win $1,000 for a beauty extravaganza + a chance to snag a beauty-award winning product!...</th>\n",
       "      <td>1</td>\n",
       "    </tr>\n",
       "    <tr>\n",
       "      <th>Colorado Tries Hard To Convince Teens That Pot's Bad For You</th>\n",
       "      <td>1</td>\n",
       "    </tr>\n",
       "    <tr>\n",
       "      <th>RT @CynthiaSass: @goodhealth Q3 Which tools work for you, to help you feel motivated to stay on a healthy track &amp;amp; follow through with goalsâ€¦</th>\n",
       "      <td>1</td>\n",
       "    </tr>\n",
       "    <tr>\n",
       "      <th>There are plenty of reasons to enjoy more whole grains:</th>\n",
       "      <td>1</td>\n",
       "    </tr>\n",
       "    <tr>\n",
       "      <th>Do you fall asleep in your makeup? Skip shampoo? Find out if you're doing damageâ€”or just smartly saving time.</th>\n",
       "      <td>1</td>\n",
       "    </tr>\n",
       "    <tr>\n",
       "      <th>Osteopathic schools are turning out nearly a third of all med school grads</th>\n",
       "      <td>1</td>\n",
       "    </tr>\n",
       "    <tr>\n",
       "      <th>For all of the dog-lovers, one more reason why pups are people too (or at least people-like):</th>\n",
       "      <td>1</td>\n",
       "    </tr>\n",
       "    <tr>\n",
       "      <th>4 more aid workers flown back to US for Ebola monitoring (pulled overnight)</th>\n",
       "      <td>1</td>\n",
       "    </tr>\n",
       "    <tr>\n",
       "      <th>After shootings, states rethink mental health cuts</th>\n",
       "      <td>1</td>\n",
       "    </tr>\n",
       "    <tr>\n",
       "      <th>RT @JamieHeller: Why pharma cos thinks inversions are good for their health.</th>\n",
       "      <td>1</td>\n",
       "    </tr>\n",
       "    <tr>\n",
       "      <th>RT @stefaniei: Which doctors on FDA advisory panels also take money from medical device makers? The FDA doesn't always say.</th>\n",
       "      <td>1</td>\n",
       "    </tr>\n",
       "    <tr>\n",
       "      <th>Fungal Meningitis Victims to Get $100 Million Settlement</th>\n",
       "      <td>1</td>\n",
       "    </tr>\n",
       "    <tr>\n",
       "      <th>Doctor says people can come back from 'death'</th>\n",
       "      <td>1</td>\n",
       "    </tr>\n",
       "    <tr>\n",
       "      <th>Centenarians 'are outliving disease'</th>\n",
       "      <td>1</td>\n",
       "    </tr>\n",
       "    <tr>\n",
       "      <th>Zip line tours in Southern California</th>\n",
       "      <td>1</td>\n",
       "    </tr>\n",
       "    <tr>\n",
       "      <th>General Mills to Make Some Cheerios Without GMOs</th>\n",
       "      <td>1</td>\n",
       "    </tr>\n",
       "    <tr>\n",
       "      <th>Weight-loss tip! Cardio burns more fat than weight lifting</th>\n",
       "      <td>1</td>\n",
       "    </tr>\n",
       "    <tr>\n",
       "      <th>For a slim sweet treat tonight, whip up a batch of our #recipe of the day, Mini Whoopie Pies!</th>\n",
       "      <td>1</td>\n",
       "    </tr>\n",
       "  </tbody>\n",
       "</table>\n",
       "<p>60376 rows × 1 columns</p>\n",
       "</div>"
      ],
      "text/plain": [
       "                                                    0\n",
       "RT @stefaniei: Doctors Without Borders shoulder...  1\n",
       "Testosterone Rises in Both Sexes as Love Ignites    1\n",
       "What Consumers Need To Know About The Obama Pla...  1\n",
       "Man in U.S. With Ebola Had Been Screened to Fly...  1\n",
       "Stem cell windpipe gives girl 'her only chance'     1\n",
       "No Ebola, S'il Vous Plait, We're French: The Iv...  1\n",
       "$10,000 to abort? Surrogacy case reveals moral ...  1\n",
       "RT @dreenaburton: @EverydayHealth A5: Frozen ?Ç...  1\n",
       "Ontario 1st province to add 'bubble boy' screen...  1\n",
       "Good morning! Cold-pressed juice or blended smo...  1\n",
       "Promised Help To Fight Ebola Arriving At 'Speed...  1\n",
       "Where does that urine sample go? @lisaespo goes...  1\n",
       "Takeda appoints Sanofi's Andrew Plump to lead g...  1\n",
       "Questions Rise As Health Care Exchange Draws Near   1\n",
       "Australian government backs down on planned cha...  1\n",
       "The surprising reason breast-feeding might hurt     1\n",
       "Texas Caregiver Confirmed as Second U.S. Ebola ...  1\n",
       "More couples opting to sleep in separate beds, ...  1\n",
       "Ebola Teams Train To Respond To New U.S. Cases ...  1\n",
       "Johnson &amp; Johnson to Begin Testing Ebola Va...  1\n",
       "Stressed out? Stop obsessing about Bad Things T...  1\n",
       "SCA says ready to fight P&amp;G in incontinence...  1\n",
       "My feelings at the end of the day will be almos...  1\n",
       "When a gun joins a household, the risk of being...  1\n",
       "Books: In 'Doctored,' Shortcomings of Health Ca...  1\n",
       "RT @paula_span: A son's small but satisfying vi...  1\n",
       "Gun suicides far more common than homicides         1\n",
       "The New Old Age Blog: Dialysis Takes a Toll         1\n",
       "RT @stefaniei: When doctors use Google Glass fo...  1\n",
       "FDA Approves Injection to Counteract Painkiller...  1\n",
       "...                                                ..\n",
       "Get the barbecue flavor without the grilling wi...  1\n",
       "Top Scientists Suggest A Few Fixes For Medical ...  1\n",
       "Siemens paves way to hive off healthcare: sources   1\n",
       "RT @eatsmartbd: A3 Would u keep giving a plant ...  1\n",
       "The New Old Age Blog: How to Complain to Medicare   1\n",
       "Mali government declares country Ebola-free         1\n",
       "Policy questioned after nurse refuses to do CPR     1\n",
       "RT @thebendigirl: Kepp your snacks light--Small...  1\n",
       "Reactions: Readersâ€™ Thoughts on Spotless Mind...  1\n",
       "Sierra Leone to Impose 3-Day Ebola Quarantine       1\n",
       "Study: More time in the kitchen = INCREASED ris...  1\n",
       "Big data: enabling the future of healthcare         1\n",
       "Shopping spree? Oh, yes! Enter to win $1,000 fo...  1\n",
       "Colorado Tries Hard To Convince Teens That Pot'...  1\n",
       "RT @CynthiaSass: @goodhealth Q3 Which tools wor...  1\n",
       "There are plenty of reasons to enjoy more whole...  1\n",
       "Do you fall asleep in your makeup? Skip shampoo...  1\n",
       "Osteopathic schools are turning out nearly a th...  1\n",
       "For all of the dog-lovers, one more reason why ...  1\n",
       "4 more aid workers flown back to US for Ebola m...  1\n",
       "After shootings, states rethink mental health c...  1\n",
       "RT @JamieHeller: Why pharma cos thinks inversio...  1\n",
       "RT @stefaniei: Which doctors on FDA advisory pa...  1\n",
       "Fungal Meningitis Victims to Get $100 Million S...  1\n",
       "Doctor says people can come back from 'death'       1\n",
       "Centenarians 'are outliving disease'                1\n",
       "Zip line tours in Southern California               1\n",
       "General Mills to Make Some Cheerios Without GMOs    1\n",
       "Weight-loss tip! Cardio burns more fat than wei...  1\n",
       "For a slim sweet treat tonight, whip up a batch...  1\n",
       "\n",
       "[60376 rows x 1 columns]"
      ]
     },
     "execution_count": 8,
     "metadata": {},
     "output_type": "execute_result"
    }
   ],
   "source": [
    "health_df.apply(pd.value_counts)"
   ]
  },
  {
   "cell_type": "code",
   "execution_count": 9,
   "metadata": {},
   "outputs": [
    {
     "data": {
      "text/plain": [
       "60376"
      ]
     },
     "execution_count": 9,
     "metadata": {},
     "output_type": "execute_result"
    }
   ],
   "source": [
    "len(health_df) #Reduce tweets from 63207 to 60376"
   ]
  },
  {
   "cell_type": "markdown",
   "metadata": {},
   "source": [
    "# Data Cleaning - Import necessary dependencies"
   ]
  },
  {
   "cell_type": "code",
   "execution_count": 10,
   "metadata": {},
   "outputs": [],
   "source": [
    "import spacy\n",
    "import pandas as pd\n",
    "import numpy as np\n",
    "import nltk\n",
    "from nltk.tokenize.toktok import ToktokTokenizer\n",
    "import re\n",
    "from bs4 import BeautifulSoup\n",
    "from contractions import CONTRACTION_MAP\n",
    "import unicodedata\n",
    "\n",
    "# nltk.download('stopwords')\n",
    "# python -m spacy download en\n",
    "\n",
    "nlp = spacy.load('en', parse=True, tag=True, entity=True)\n",
    "tokenizer = ToktokTokenizer()\n",
    "stopword_list = nltk.corpus.stopwords.words('english')\n",
    "stopword_list.remove('no')\n",
    "stopword_list.remove('not')"
   ]
  },
  {
   "cell_type": "code",
   "execution_count": 11,
   "metadata": {},
   "outputs": [],
   "source": [
    "health_df1=health_df #Create health_df1 as a back-up"
   ]
  },
  {
   "cell_type": "markdown",
   "metadata": {},
   "source": [
    "# Lowercase the text "
   ]
  },
  {
   "cell_type": "code",
   "execution_count": 12,
   "metadata": {},
   "outputs": [],
   "source": [
    "health_df=health_df[0].str.lower()"
   ]
  },
  {
   "cell_type": "code",
   "execution_count": 13,
   "metadata": {},
   "outputs": [
    {
     "data": {
      "text/plain": [
       "0                     breast cancer risk test devised \n",
       "1                 gp workload harming care - bma poll \n",
       "2                 short people's 'heart risk greater' \n",
       "3                new approach against hiv 'promising' \n",
       "4                coalition 'undermined nhs' - doctors \n",
       "5                  review of case against nhs manager \n",
       "6    video: 'all day is empty, what am i going to d...\n",
       "7       video: 'overhaul needed' for end-of-life care \n",
       "8                     care for dying 'needs overhaul' \n",
       "9            video: nhs: labour and tory key policies \n",
       "Name: 0, dtype: object"
      ]
     },
     "execution_count": 13,
     "metadata": {},
     "output_type": "execute_result"
    }
   ],
   "source": [
    "health_df.head(10)"
   ]
  },
  {
   "cell_type": "markdown",
   "metadata": {},
   "source": [
    "# Remove @Word and \"#Word\""
   ]
  },
  {
   "cell_type": "code",
   "execution_count": 14,
   "metadata": {},
   "outputs": [],
   "source": [
    "def removeTags(s):\n",
    "    s = re.sub(\"@[a-zA-Z0-9_]+\",\" \", s) #remove the @<the word>\n",
    "    s = re.sub(\"#[a-zA-Z0-9_]+\",\" \", s) #remove the #<the word>\n",
    "    return s\n",
    "\n",
    "health_df=health_df.apply(removeTags)"
   ]
  },
  {
   "cell_type": "code",
   "execution_count": 15,
   "metadata": {},
   "outputs": [
    {
     "data": {
      "text/plain": [
       "0                     breast cancer risk test devised \n",
       "1                 gp workload harming care - bma poll \n",
       "2                 short people's 'heart risk greater' \n",
       "3                new approach against hiv 'promising' \n",
       "4                coalition 'undermined nhs' - doctors \n",
       "5                  review of case against nhs manager \n",
       "6    video: 'all day is empty, what am i going to d...\n",
       "7       video: 'overhaul needed' for end-of-life care \n",
       "8                     care for dying 'needs overhaul' \n",
       "9            video: nhs: labour and tory key policies \n",
       "Name: 0, dtype: object"
      ]
     },
     "execution_count": 15,
     "metadata": {},
     "output_type": "execute_result"
    }
   ],
   "source": [
    "health_df.head(10)"
   ]
  },
  {
   "cell_type": "markdown",
   "metadata": {},
   "source": [
    "# Removing HTML Tags and HTTP Tags"
   ]
  },
  {
   "cell_type": "code",
   "execution_count": 16,
   "metadata": {},
   "outputs": [],
   "source": [
    "def strip_html_tags(text):\n",
    "    soup = BeautifulSoup(text, \"html.parser\")\n",
    "    stripped_text = soup.get_text()\n",
    "    return stripped_text\n",
    "\n",
    "health_df=health_df.apply(strip_html_tags)"
   ]
  },
  {
   "cell_type": "code",
   "execution_count": 17,
   "metadata": {},
   "outputs": [
    {
     "data": {
      "text/plain": [
       "0                     breast cancer risk test devised \n",
       "1                 gp workload harming care - bma poll \n",
       "2                 short people's 'heart risk greater' \n",
       "3                new approach against hiv 'promising' \n",
       "4                coalition 'undermined nhs' - doctors \n",
       "5                  review of case against nhs manager \n",
       "6    video: 'all day is empty, what am i going to d...\n",
       "7       video: 'overhaul needed' for end-of-life care \n",
       "8                     care for dying 'needs overhaul' \n",
       "9            video: nhs: labour and tory key policies \n",
       "Name: 0, dtype: object"
      ]
     },
     "execution_count": 17,
     "metadata": {},
     "output_type": "execute_result"
    }
   ],
   "source": [
    "health_df.head(10)"
   ]
  },
  {
   "cell_type": "code",
   "execution_count": 18,
   "metadata": {},
   "outputs": [],
   "source": [
    "def removehttp(http):\n",
    "    http = re.sub(r\"http\\S+\", \"\", http) #remove the http://<the word>\n",
    "    return http\n",
    "\n",
    "health_df=health_df.apply(removehttp)"
   ]
  },
  {
   "cell_type": "code",
   "execution_count": 19,
   "metadata": {},
   "outputs": [
    {
     "data": {
      "text/plain": [
       "0                     breast cancer risk test devised \n",
       "1                 gp workload harming care - bma poll \n",
       "2                 short people's 'heart risk greater' \n",
       "3                new approach against hiv 'promising' \n",
       "4                coalition 'undermined nhs' - doctors \n",
       "5                  review of case against nhs manager \n",
       "6    video: 'all day is empty, what am i going to d...\n",
       "7       video: 'overhaul needed' for end-of-life care \n",
       "8                     care for dying 'needs overhaul' \n",
       "9            video: nhs: labour and tory key policies \n",
       "Name: 0, dtype: object"
      ]
     },
     "execution_count": 19,
     "metadata": {},
     "output_type": "execute_result"
    }
   ],
   "source": [
    "health_df.head(10)"
   ]
  },
  {
   "cell_type": "markdown",
   "metadata": {},
   "source": [
    "# Removing accented characters"
   ]
  },
  {
   "cell_type": "code",
   "execution_count": 20,
   "metadata": {},
   "outputs": [],
   "source": [
    "def remove_accented_chars(text):\n",
    "    text = unicodedata.normalize('NFKD', text).encode('ascii', 'ignore').decode('utf-8', 'ignore')\n",
    "    return text\n",
    "\n",
    "health_df=health_df.apply(remove_accented_chars)"
   ]
  },
  {
   "cell_type": "code",
   "execution_count": 21,
   "metadata": {},
   "outputs": [
    {
     "data": {
      "text/plain": [
       "0                     breast cancer risk test devised \n",
       "1                 gp workload harming care - bma poll \n",
       "2                 short people's 'heart risk greater' \n",
       "3                new approach against hiv 'promising' \n",
       "4                coalition 'undermined nhs' - doctors \n",
       "5                  review of case against nhs manager \n",
       "6    video: 'all day is empty, what am i going to d...\n",
       "7       video: 'overhaul needed' for end-of-life care \n",
       "8                     care for dying 'needs overhaul' \n",
       "9            video: nhs: labour and tory key policies \n",
       "Name: 0, dtype: object"
      ]
     },
     "execution_count": 21,
     "metadata": {},
     "output_type": "execute_result"
    }
   ],
   "source": [
    "health_df.head(10)"
   ]
  },
  {
   "cell_type": "markdown",
   "metadata": {},
   "source": [
    "# Expanding Contractions"
   ]
  },
  {
   "cell_type": "code",
   "execution_count": 22,
   "metadata": {},
   "outputs": [],
   "source": [
    "def expand_contractions(text, contraction_mapping=CONTRACTION_MAP):\n",
    "    \n",
    "    contractions_pattern = re.compile('({})'.format('|'.join(contraction_mapping.keys())), \n",
    "                                      flags=re.IGNORECASE|re.DOTALL)\n",
    "    def expand_match(contraction):\n",
    "        match = contraction.group(0)\n",
    "        first_char = match[0]\n",
    "        expanded_contraction = contraction_mapping.get(match)\\\n",
    "                                if contraction_mapping.get(match)\\\n",
    "                                else contraction_mapping.get(match.lower())                       \n",
    "        expanded_contraction = first_char+expanded_contraction[1:]\n",
    "        return expanded_contraction\n",
    "        \n",
    "    expanded_text = contractions_pattern.sub(expand_match, text)\n",
    "    expanded_text = re.sub(\"'\", \"\", expanded_text)\n",
    "    return expanded_text\n",
    "\n",
    "health_df=health_df.apply(expand_contractions)"
   ]
  },
  {
   "cell_type": "code",
   "execution_count": 23,
   "metadata": {},
   "outputs": [
    {
     "data": {
      "text/plain": [
       "0                    breast cancer risk test devised \n",
       "1                gp workload harming care - bma poll \n",
       "2                   short peoples heart risk greater \n",
       "3                 new approach against hiv promising \n",
       "4                 coalition undermined nhs - doctors \n",
       "5                 review of case against nhs manager \n",
       "6    video: all day is empty, what am i going to do? \n",
       "7        video: overhaul needed for end-of-life care \n",
       "8                      care for dying needs overhaul \n",
       "9           video: nhs: labour and tory key policies \n",
       "Name: 0, dtype: object"
      ]
     },
     "execution_count": 23,
     "metadata": {},
     "output_type": "execute_result"
    }
   ],
   "source": [
    "health_df.head(10)"
   ]
  },
  {
   "cell_type": "markdown",
   "metadata": {},
   "source": [
    "# Insert spaces between special characters to isolate them "
   ]
  },
  {
   "cell_type": "code",
   "execution_count": 24,
   "metadata": {},
   "outputs": [],
   "source": [
    "def insertspace(inspace):\n",
    "    special_char_pattern = re.compile(r'([{.(-)!}])')\n",
    "    inspace = special_char_pattern.sub(\" \\\\1 \", inspace)\n",
    "    return inspace\n",
    "\n",
    "health_df=health_df.apply(insertspace)"
   ]
  },
  {
   "cell_type": "markdown",
   "metadata": {},
   "source": [
    "# Remove numbers"
   ]
  },
  {
   "cell_type": "code",
   "execution_count": 25,
   "metadata": {},
   "outputs": [],
   "source": [
    "def removeNumbers(n):\n",
    "    n = re.sub(\"1[a-zA-Z0-9_]+\",\" \", n) \n",
    "    n = re.sub(\"2[a-zA-Z0-9_]+\",\" \", n) \n",
    "    n = re.sub(\"3[a-zA-Z0-9_]+\",\" \", n) \n",
    "    n = re.sub(\"4[a-zA-Z0-9_]+\",\" \", n) \n",
    "    n = re.sub(\"5[a-zA-Z0-9_]+\",\" \", n) \n",
    "    n = re.sub(\"6[a-zA-Z0-9_]+\",\" \", n) \n",
    "    n = re.sub(\"7[a-zA-Z0-9_]+\",\" \", n) \n",
    "    n = re.sub(\"8[a-zA-Z0-9_]+\",\" \", n) \n",
    "    n = re.sub(\"9[a-zA-Z0-9_]+\",\" \", n) \n",
    "    n = re.sub(\"[0-9]\",\" \", n) \n",
    "    return n\n",
    "\n",
    "health_df=health_df.apply(removeNumbers)"
   ]
  },
  {
   "cell_type": "markdown",
   "metadata": {},
   "source": [
    "# Removing Special Characters"
   ]
  },
  {
   "cell_type": "code",
   "execution_count": 26,
   "metadata": {},
   "outputs": [],
   "source": [
    "def remove_special_characters(text):\n",
    "    text = re.sub('[^a-zA-Z0-9\\s]', '', text)\n",
    "    text = re.sub('[+]', '', text)\n",
    "    return text\n",
    "\n",
    "health_df=health_df.apply(remove_special_characters)"
   ]
  },
  {
   "cell_type": "code",
   "execution_count": 27,
   "metadata": {},
   "outputs": [
    {
     "data": {
      "text/plain": [
       "0                 breast cancer risk test devised \n",
       "1              gp workload harming care  bma poll \n",
       "2                short peoples heart risk greater \n",
       "3              new approach against hiv promising \n",
       "4               coalition undermined nhs  doctors \n",
       "5              review of case against nhs manager \n",
       "6    video all day is empty what am i going to do \n",
       "7        video overhaul needed for endoflife care \n",
       "8                   care for dying needs overhaul \n",
       "9          video nhs labour and tory key policies \n",
       "Name: 0, dtype: object"
      ]
     },
     "execution_count": 27,
     "metadata": {},
     "output_type": "execute_result"
    }
   ],
   "source": [
    "health_df.head(10)"
   ]
  },
  {
   "cell_type": "markdown",
   "metadata": {},
   "source": [
    "# Lemmatizing text"
   ]
  },
  {
   "cell_type": "code",
   "execution_count": 28,
   "metadata": {},
   "outputs": [],
   "source": [
    "def lemmatize_text(text):\n",
    "    text = nlp(text)\n",
    "    text = ' '.join([word.lemma_ if word.lemma_ != '-PRON-' else word.text for word in text])\n",
    "    return text\n",
    "\n",
    "health_df=health_df.apply(lemmatize_text)"
   ]
  },
  {
   "cell_type": "code",
   "execution_count": 29,
   "metadata": {},
   "outputs": [
    {
     "data": {
      "text/plain": [
       "0               breast cancer risk test devise\n",
       "1             gp workload harm care   bma poll\n",
       "2                short people heart risk great\n",
       "3           new approach against hiv promising\n",
       "4             coalition undermine nhs   doctor\n",
       "5           review of case against nhs manager\n",
       "6    video all day be empty what be i go to do\n",
       "7       video overhaul need for endoflife care\n",
       "8                   care for die need overhaul\n",
       "9         video nhs labour and tory key policy\n",
       "Name: 0, dtype: object"
      ]
     },
     "execution_count": 29,
     "metadata": {},
     "output_type": "execute_result"
    }
   ],
   "source": [
    "health_df.head(10)"
   ]
  },
  {
   "cell_type": "markdown",
   "metadata": {},
   "source": [
    "# Removing Stopwords"
   ]
  },
  {
   "cell_type": "code",
   "execution_count": 30,
   "metadata": {},
   "outputs": [],
   "source": [
    "def remove_stopwords(text, is_lower_case=False):\n",
    "    tokens = tokenizer.tokenize(text)\n",
    "    tokens = [token.strip() for token in tokens]\n",
    "    if is_lower_case:\n",
    "        filtered_tokens = [token for token in tokens if token not in stopword_list]\n",
    "    else:\n",
    "        filtered_tokens = [token for token in tokens if token.lower() not in stopword_list]\n",
    "    filtered_text = ' '.join(filtered_tokens)    \n",
    "    return filtered_text\n",
    "\n",
    "health_df=health_df.apply(remove_stopwords)"
   ]
  },
  {
   "cell_type": "code",
   "execution_count": 31,
   "metadata": {},
   "outputs": [
    {
     "data": {
      "text/plain": [
       "0        breast cancer risk test devise\n",
       "1        gp workload harm care bma poll\n",
       "2         short people heart risk great\n",
       "3            new approach hiv promising\n",
       "4        coalition undermine nhs doctor\n",
       "5               review case nhs manager\n",
       "6                    video day empty go\n",
       "7    video overhaul need endoflife care\n",
       "8                care die need overhaul\n",
       "9      video nhs labour tory key policy\n",
       "Name: 0, dtype: object"
      ]
     },
     "execution_count": 31,
     "metadata": {},
     "output_type": "execute_result"
    }
   ],
   "source": [
    "health_df.head(10)"
   ]
  },
  {
   "cell_type": "markdown",
   "metadata": {},
   "source": [
    "# Remove extra newlines"
   ]
  },
  {
   "cell_type": "code",
   "execution_count": 32,
   "metadata": {},
   "outputs": [],
   "source": [
    "def removeline(line):\n",
    "    line = re.sub(r'[\\r|\\n|\\r\\n]+', ' ',line)\n",
    "    return line\n",
    "\n",
    "health_df=health_df.apply(removeline)"
   ]
  },
  {
   "cell_type": "markdown",
   "metadata": {},
   "source": [
    "# Remove extra whitespace"
   ]
  },
  {
   "cell_type": "code",
   "execution_count": 33,
   "metadata": {},
   "outputs": [],
   "source": [
    "def removewhite(line):\n",
    "    line = re.sub(' +', ' ', line)\n",
    "    return line\n",
    "\n",
    "health_df=health_df.apply(removewhite)"
   ]
  },
  {
   "cell_type": "code",
   "execution_count": 34,
   "metadata": {},
   "outputs": [],
   "source": [
    "health_df.to_csv('D:\\\\Education\\\\York U\\\\ML 1010\\\\Group Project\\\\Dataset\\\\HealthNewsTweets_cleaned_new.csv',encoding='utf-8',index=False)"
   ]
  },
  {
   "cell_type": "code",
   "execution_count": null,
   "metadata": {},
   "outputs": [],
   "source": []
  }
 ],
 "metadata": {
  "kernelspec": {
   "display_name": "Python 3",
   "language": "python",
   "name": "python3"
  },
  "language_info": {
   "codemirror_mode": {
    "name": "ipython",
    "version": 3
   },
   "file_extension": ".py",
   "mimetype": "text/x-python",
   "name": "python",
   "nbconvert_exporter": "python",
   "pygments_lexer": "ipython3",
   "version": "3.7.1"
  }
 },
 "nbformat": 4,
 "nbformat_minor": 2
}
