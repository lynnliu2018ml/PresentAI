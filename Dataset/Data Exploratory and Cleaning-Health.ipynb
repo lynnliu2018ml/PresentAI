{
 "cells": [
  {
   "cell_type": "markdown",
   "metadata": {},
   "source": [
    "Reference: https://towardsdatascience.com/a-practitioners-guide-to-natural-language-processing-part-i-processing-understanding-text-9f4abfd13e72 <br>AND Annie's \"Text Normalization Demo.ipynb\""
   ]
  },
  {
   "cell_type": "markdown",
   "metadata": {},
   "source": [
    "# Data Exploratory"
   ]
  },
  {
   "cell_type": "code",
   "execution_count": 1,
   "metadata": {},
   "outputs": [],
   "source": [
    "import pandas as pd\n",
    "import numpy as np\n",
    "import matplotlib.pyplot as plt\n",
    "import seaborn as sns\n",
    "import os\n",
    "%matplotlib inline"
   ]
  },
  {
   "cell_type": "code",
   "execution_count": 2,
   "metadata": {},
   "outputs": [],
   "source": [
    "health_df = pd.read_csv('D:\\\\Education\\\\York U\\\\ML 1010\\\\Group Project\\\\Dataset\\\\HealthNewsTweets.csv', header = None)"
   ]
  },
  {
   "cell_type": "code",
   "execution_count": 3,
   "metadata": {},
   "outputs": [
    {
     "data": {
      "text/plain": [
       "pandas.core.frame.DataFrame"
      ]
     },
     "execution_count": 3,
     "metadata": {},
     "output_type": "execute_result"
    }
   ],
   "source": [
    "type(health_df)"
   ]
  },
  {
   "cell_type": "code",
   "execution_count": 4,
   "metadata": {},
   "outputs": [
    {
     "data": {
      "text/plain": [
       "63207"
      ]
     },
     "execution_count": 4,
     "metadata": {},
     "output_type": "execute_result"
    }
   ],
   "source": [
    "len(health_df)"
   ]
  },
  {
   "cell_type": "code",
   "execution_count": 5,
   "metadata": {},
   "outputs": [
    {
     "data": {
      "text/html": [
       "<div>\n",
       "<style scoped>\n",
       "    .dataframe tbody tr th:only-of-type {\n",
       "        vertical-align: middle;\n",
       "    }\n",
       "\n",
       "    .dataframe tbody tr th {\n",
       "        vertical-align: top;\n",
       "    }\n",
       "\n",
       "    .dataframe thead th {\n",
       "        text-align: right;\n",
       "    }\n",
       "</style>\n",
       "<table border=\"1\" class=\"dataframe\">\n",
       "  <thead>\n",
       "    <tr style=\"text-align: right;\">\n",
       "      <th></th>\n",
       "      <th>0</th>\n",
       "    </tr>\n",
       "  </thead>\n",
       "  <tbody>\n",
       "    <tr>\n",
       "      <th>0</th>\n",
       "      <td>Breast cancer risk test devised</td>\n",
       "    </tr>\n",
       "    <tr>\n",
       "      <th>1</th>\n",
       "      <td>GP workload harming care - BMA poll</td>\n",
       "    </tr>\n",
       "    <tr>\n",
       "      <th>2</th>\n",
       "      <td>Short people's 'heart risk greater'</td>\n",
       "    </tr>\n",
       "    <tr>\n",
       "      <th>3</th>\n",
       "      <td>New approach against HIV 'promising'</td>\n",
       "    </tr>\n",
       "    <tr>\n",
       "      <th>4</th>\n",
       "      <td>Coalition 'undermined NHS' - doctors</td>\n",
       "    </tr>\n",
       "  </tbody>\n",
       "</table>\n",
       "</div>"
      ],
      "text/plain": [
       "                                       0\n",
       "0       Breast cancer risk test devised \n",
       "1   GP workload harming care - BMA poll \n",
       "2   Short people's 'heart risk greater' \n",
       "3  New approach against HIV 'promising' \n",
       "4  Coalition 'undermined NHS' - doctors "
      ]
     },
     "execution_count": 5,
     "metadata": {},
     "output_type": "execute_result"
    }
   ],
   "source": [
    "health_df.head(5) # The function can also be done by \"health_df[:5]\" or \"print(health_df[:5])\""
   ]
  },
  {
   "cell_type": "code",
   "execution_count": 6,
   "metadata": {},
   "outputs": [
    {
     "data": {
      "text/html": [
       "<div>\n",
       "<style scoped>\n",
       "    .dataframe tbody tr th:only-of-type {\n",
       "        vertical-align: middle;\n",
       "    }\n",
       "\n",
       "    .dataframe tbody tr th {\n",
       "        vertical-align: top;\n",
       "    }\n",
       "\n",
       "    .dataframe thead th {\n",
       "        text-align: right;\n",
       "    }\n",
       "</style>\n",
       "<table border=\"1\" class=\"dataframe\">\n",
       "  <thead>\n",
       "    <tr style=\"text-align: right;\">\n",
       "      <th></th>\n",
       "      <th>0</th>\n",
       "    </tr>\n",
       "  </thead>\n",
       "  <tbody>\n",
       "    <tr>\n",
       "      <th>Opinion: Why selling kidneys still won't work</th>\n",
       "      <td>50</td>\n",
       "    </tr>\n",
       "    <tr>\n",
       "      <th>A kidney for $10,000? Paying donors actually pays off, new study finds</th>\n",
       "      <td>50</td>\n",
       "    </tr>\n",
       "    <tr>\n",
       "      <th>FDA proposes strict new  safety rules for animal food</th>\n",
       "      <td>49</td>\n",
       "    </tr>\n",
       "    <tr>\n",
       "      <th>FDA approves more powerful painkiller</th>\n",
       "      <td>49</td>\n",
       "    </tr>\n",
       "    <tr>\n",
       "      <th>Tweeting bra exposed: Genuine support or publicity lift?</th>\n",
       "      <td>48</td>\n",
       "    </tr>\n",
       "    <tr>\n",
       "      <th>Favre's 'scary' memory lapses re-open NFL concussion questions</th>\n",
       "      <td>48</td>\n",
       "    </tr>\n",
       "    <tr>\n",
       "      <th>North Dakota Catholics warned of possible hepatitis exposure from bishop during communion</th>\n",
       "      <td>47</td>\n",
       "    </tr>\n",
       "    <tr>\n",
       "      <th>Everyday Health Daily Digest is out!</th>\n",
       "      <td>42</td>\n",
       "    </tr>\n",
       "    <tr>\n",
       "      <th>Get a $5 @wagdotcom gift to spend on your furry friend when you purchase 1 of these premium pet foods:</th>\n",
       "      <td>34</td>\n",
       "    </tr>\n",
       "    <tr>\n",
       "      <th>Enter daily for a chance to #win our holiday #sweepstakes! Fab weekly #prizes (e.g. Dyson vacuum) + $10,000 grand prize</th>\n",
       "      <td>26</td>\n",
       "    </tr>\n",
       "    <tr>\n",
       "      <th>10 foods that boost your skin AND slim your waistline:</th>\n",
       "      <td>22</td>\n",
       "    </tr>\n",
       "    <tr>\n",
       "      <th>Make 2015 the year you clean up your diet, strip away stress, and lose weight. This @CoziFamily checklist will help:</th>\n",
       "      <td>20</td>\n",
       "    </tr>\n",
       "    <tr>\n",
       "      <th>9 foods to eat for a longer life:</th>\n",
       "      <td>18</td>\n",
       "    </tr>\n",
       "    <tr>\n",
       "      <th>Enjoy an aah-mazing weekend with HEALTH editors at @CanyonRanch. Exclusive offer with code HealthTotalWellness</th>\n",
       "      <td>17</td>\n",
       "    </tr>\n",
       "    <tr>\n",
       "      <th>Join us and @CanyonRanch for the #HealthTotalWellness weekend. Exclusive offer with code HealthTotalWellness at</th>\n",
       "      <td>17</td>\n",
       "    </tr>\n",
       "    <tr>\n",
       "      <th>Treat yourself to a transformative getaway at the #HealthTotalWellness weekend at @CanyonRanch! Details here:</th>\n",
       "      <td>16</td>\n",
       "    </tr>\n",
       "    <tr>\n",
       "      <th>Give an aah-mazing gift and send someone special to the #HealthTotalWellness weekend at @CanyonRanch!</th>\n",
       "      <td>15</td>\n",
       "    </tr>\n",
       "    <tr>\n",
       "      <th>Enter daily for a chance to #win our holiday #sweepstakes! Weekly #prizes (e.g. $500 gift card) + $10,000 grand prize</th>\n",
       "      <td>13</td>\n",
       "    </tr>\n",
       "    <tr>\n",
       "      <th>9 eating habits that pack on the pounds:</th>\n",
       "      <td>12</td>\n",
       "    </tr>\n",
       "    <tr>\n",
       "      <th>Soda drinkers listen up! Here are 7 reasons why you should kick the soda habit:</th>\n",
       "      <td>12</td>\n",
       "    </tr>\n",
       "    <tr>\n",
       "      <th>Red meat, and 6 more surprising foods that'll spike your blood sugar:</th>\n",
       "      <td>11</td>\n",
       "    </tr>\n",
       "    <tr>\n",
       "      <th>Fiber-rich foods to add to your diet ASAP:</th>\n",
       "      <td>11</td>\n",
       "    </tr>\n",
       "    <tr>\n",
       "      <th>10 ways to cut 100 calories TODAY</th>\n",
       "      <td>10</td>\n",
       "    </tr>\n",
       "    <tr>\n",
       "      <th>ADHD characteristics can actually be a huge plus in choosing a career. Here, the most ADHD-friendly jobs:</th>\n",
       "      <td>10</td>\n",
       "    </tr>\n",
       "    <tr>\n",
       "      <th>Want to save even MORE money on #BlackFriday? Sign up for special coupon codes with the @CoziFamily app!</th>\n",
       "      <td>10</td>\n",
       "    </tr>\n",
       "    <tr>\n",
       "      <th>10 health symptoms men shouldn't ignore</th>\n",
       "      <td>10</td>\n",
       "    </tr>\n",
       "    <tr>\n",
       "      <th>10 Weeks to a #Slim New You! Sign up for Health's first ever email series to get tips, advice, #workouts, &amp;amp; #recipes!</th>\n",
       "      <td>10</td>\n",
       "    </tr>\n",
       "    <tr>\n",
       "      <th>Discover a new you this year at the #HealthTotalWellness weekend at @CanyonRanch! Get more details here:</th>\n",
       "      <td>10</td>\n",
       "    </tr>\n",
       "    <tr>\n",
       "      <th>Jump-start your weight loss with 30 days of expert tips, meal plans, and workouts.</th>\n",
       "      <td>9</td>\n",
       "    </tr>\n",
       "    <tr>\n",
       "      <th>The surprising warning signs of mental illness in children</th>\n",
       "      <td>9</td>\n",
       "    </tr>\n",
       "    <tr>\n",
       "      <th>...</th>\n",
       "      <td>...</td>\n",
       "    </tr>\n",
       "    <tr>\n",
       "      <th>Did you know? Sleeping an extra hour each night is linked to a $6,000 salary boost.</th>\n",
       "      <td>1</td>\n",
       "    </tr>\n",
       "    <tr>\n",
       "      <th>Shocker! â€˜Dessertâ€™ With Breakfast Boosts Weight Loss</th>\n",
       "      <td>1</td>\n",
       "    </tr>\n",
       "    <tr>\n",
       "      <th>Today's headlines: Delta Air Lines Tells Feds: Health Law Makes Costs 'Rise Dramatically'</th>\n",
       "      <td>1</td>\n",
       "    </tr>\n",
       "    <tr>\n",
       "      <th>States Spend $28M, Then Leave Exchanges To The Feds, @PhilGalewitz reports:</th>\n",
       "      <td>1</td>\n",
       "    </tr>\n",
       "    <tr>\n",
       "      <th>RT @KCourtive: @GdnHealthcare ..blame increased easy access to Porn at ever younger ages, often with no parental \"balancing\" of info as welâ€¦</th>\n",
       "      <td>1</td>\n",
       "    </tr>\n",
       "    <tr>\n",
       "      <th>Is Social Media Killing School Dances?</th>\n",
       "      <td>1</td>\n",
       "    </tr>\n",
       "    <tr>\n",
       "      <th>Heart Failure Care Influenced by Insurance Coverage:</th>\n",
       "      <td>1</td>\n",
       "    </tr>\n",
       "    <tr>\n",
       "      <th>#Missouri lawmakers have approved a 3-day #abortion waiting period. Thoughts?</th>\n",
       "      <td>1</td>\n",
       "    </tr>\n",
       "    <tr>\n",
       "      <th>CFIA pulls St-Thomas Fish Market's registration</th>\n",
       "      <td>1</td>\n",
       "    </tr>\n",
       "    <tr>\n",
       "      <th>Gel Protects Monkeys From H.I.V. After Sex, Study Finds</th>\n",
       "      <td>1</td>\n",
       "    </tr>\n",
       "    <tr>\n",
       "      <th>Remove financial barriers to organ donation, experts say</th>\n",
       "      <td>1</td>\n",
       "    </tr>\n",
       "    <tr>\n",
       "      <th>@chickrx Aww shucks, you girls aren't too bad yourself.</th>\n",
       "      <td>1</td>\n",
       "    </tr>\n",
       "    <tr>\n",
       "      <th>Obama Speaks With Health Workers on Ebola Frontlines</th>\n",
       "      <td>1</td>\n",
       "    </tr>\n",
       "    <tr>\n",
       "      <th>OB/GYNs told robot hysterectomy not best option</th>\n",
       "      <td>1</td>\n",
       "    </tr>\n",
       "    <tr>\n",
       "      <th>Huge medical bill? How to tell if you've been \"balanced billed\" via @LacieJaeGlo</th>\n",
       "      <td>1</td>\n",
       "    </tr>\n",
       "    <tr>\n",
       "      <th>Dying of Ebola at the Hospital Door</th>\n",
       "      <td>1</td>\n",
       "    </tr>\n",
       "    <tr>\n",
       "      <th>Well: Ask Well: More Repetitions vs. More Weight?</th>\n",
       "      <td>1</td>\n",
       "    </tr>\n",
       "    <tr>\n",
       "      <th>Stand back! Flu virus travels farther than you think</th>\n",
       "      <td>1</td>\n",
       "    </tr>\n",
       "    <tr>\n",
       "      <th>This was a surprise -- age-related memory loss greater in men? Is anyone else surprised?</th>\n",
       "      <td>1</td>\n",
       "    </tr>\n",
       "    <tr>\n",
       "      <th>Gallery: Women pioneers in medicine</th>\n",
       "      <td>1</td>\n",
       "    </tr>\n",
       "    <tr>\n",
       "      <th>Eggs get a raise while meat gets demoted in the new #dietaryguidelines, reports @lisaespo</th>\n",
       "      <td>1</td>\n",
       "    </tr>\n",
       "    <tr>\n",
       "      <th>Do you know what to do if someone is drowning?</th>\n",
       "      <td>1</td>\n",
       "    </tr>\n",
       "    <tr>\n",
       "      <th>40th Repeal Vote Unlikely To Be Charm For House Republicans, Today's headlines:</th>\n",
       "      <td>1</td>\n",
       "    </tr>\n",
       "    <tr>\n",
       "      <th>10 coffee drinks worse than a candy bar:</th>\n",
       "      <td>1</td>\n",
       "    </tr>\n",
       "    <tr>\n",
       "      <th>Even Penguins Get The Flu</th>\n",
       "      <td>1</td>\n",
       "    </tr>\n",
       "    <tr>\n",
       "      <th>Anger may raise heart attack risk, study finds</th>\n",
       "      <td>1</td>\n",
       "    </tr>\n",
       "    <tr>\n",
       "      <th>Texting, Talking on Cellphone Slows Walking Pace: Study:</th>\n",
       "      <td>1</td>\n",
       "    </tr>\n",
       "    <tr>\n",
       "      <th>Polish toddler found in freezing cold recovering</th>\n",
       "      <td>1</td>\n",
       "    </tr>\n",
       "    <tr>\n",
       "      <th>French worker for medical charity MSF contracts Ebola in Liberia</th>\n",
       "      <td>1</td>\n",
       "    </tr>\n",
       "    <tr>\n",
       "      <th>2 large meals  may be better than 6 small ones for #weightloss &amp;amp; #diabetes</th>\n",
       "      <td>1</td>\n",
       "    </tr>\n",
       "  </tbody>\n",
       "</table>\n",
       "<p>60376 rows × 1 columns</p>\n",
       "</div>"
      ],
      "text/plain": [
       "                                                     0\n",
       "Opinion: Why selling kidneys still won't work       50\n",
       "A kidney for $10,000? Paying donors actually pa...  50\n",
       "FDA proposes strict new  safety rules for anima...  49\n",
       "FDA approves more powerful painkiller               49\n",
       "Tweeting bra exposed: Genuine support or public...  48\n",
       "Favre's 'scary' memory lapses re-open NFL concu...  48\n",
       "North Dakota Catholics warned of possible hepat...  47\n",
       "Everyday Health Daily Digest is out!                42\n",
       "Get a $5 @wagdotcom gift to spend on your furry...  34\n",
       "Enter daily for a chance to #win our holiday #s...  26\n",
       "10 foods that boost your skin AND slim your wai...  22\n",
       "Make 2015 the year you clean up your diet, stri...  20\n",
       "9 foods to eat for a longer life:                   18\n",
       "Enjoy an aah-mazing weekend with HEALTH editors...  17\n",
       "Join us and @CanyonRanch for the #HealthTotalWe...  17\n",
       "Treat yourself to a transformative getaway at t...  16\n",
       "Give an aah-mazing gift and send someone specia...  15\n",
       "Enter daily for a chance to #win our holiday #s...  13\n",
       "9 eating habits that pack on the pounds:            12\n",
       "Soda drinkers listen up! Here are 7 reasons why...  12\n",
       "Red meat, and 6 more surprising foods that'll s...  11\n",
       "Fiber-rich foods to add to your diet ASAP:          11\n",
       "10 ways to cut 100 calories TODAY                   10\n",
       "ADHD characteristics can actually be a huge plu...  10\n",
       "Want to save even MORE money on #BlackFriday? S...  10\n",
       "10 health symptoms men shouldn't ignore             10\n",
       "10 Weeks to a #Slim New You! Sign up for Health...  10\n",
       "Discover a new you this year at the #HealthTota...  10\n",
       "Jump-start your weight loss with 30 days of exp...   9\n",
       "The surprising warning signs of mental illness ...   9\n",
       "...                                                 ..\n",
       "Did you know? Sleeping an extra hour each night...   1\n",
       "Shocker! â€˜Dessertâ€™ With Breakfast Boosts We...   1\n",
       "Today's headlines: Delta Air Lines Tells Feds: ...   1\n",
       "States Spend $28M, Then Leave Exchanges To The ...   1\n",
       "RT @KCourtive: @GdnHealthcare ..blame increased...   1\n",
       "Is Social Media Killing School Dances?               1\n",
       "Heart Failure Care Influenced by Insurance Cove...   1\n",
       "#Missouri lawmakers have approved a 3-day #abor...   1\n",
       "CFIA pulls St-Thomas Fish Market's registration      1\n",
       "Gel Protects Monkeys From H.I.V. After Sex, Stu...   1\n",
       "Remove financial barriers to organ donation, ex...   1\n",
       "@chickrx Aww shucks, you girls aren't too bad y...   1\n",
       "Obama Speaks With Health Workers on Ebola Front...   1\n",
       "OB/GYNs told robot hysterectomy not best option      1\n",
       "Huge medical bill? How to tell if you've been \"...   1\n",
       "Dying of Ebola at the Hospital Door                  1\n",
       "Well: Ask Well: More Repetitions vs. More Weight?    1\n",
       "Stand back! Flu virus travels farther than you ...   1\n",
       "This was a surprise -- age-related memory loss ...   1\n",
       "Gallery: Women pioneers in medicine                  1\n",
       "Eggs get a raise while meat gets demoted in the...   1\n",
       "Do you know what to do if someone is drowning?       1\n",
       "40th Repeal Vote Unlikely To Be Charm For House...   1\n",
       "10 coffee drinks worse than a candy bar:             1\n",
       "Even Penguins Get The Flu                            1\n",
       "Anger may raise heart attack risk, study finds       1\n",
       "Texting, Talking on Cellphone Slows Walking Pac...   1\n",
       "Polish toddler found in freezing cold recovering     1\n",
       "French worker for medical charity MSF contracts...   1\n",
       "2 large meals  may be better than 6 small ones ...   1\n",
       "\n",
       "[60376 rows x 1 columns]"
      ]
     },
     "execution_count": 6,
     "metadata": {},
     "output_type": "execute_result"
    }
   ],
   "source": [
    "health_df.apply(pd.value_counts) # Check and count all duplicated tweets"
   ]
  },
  {
   "cell_type": "code",
   "execution_count": 7,
   "metadata": {},
   "outputs": [],
   "source": [
    "health_df=health_df.drop_duplicates(keep='last') # Remove duplicated tweets"
   ]
  },
  {
   "cell_type": "code",
   "execution_count": 8,
   "metadata": {},
   "outputs": [
    {
     "data": {
      "text/html": [
       "<div>\n",
       "<style scoped>\n",
       "    .dataframe tbody tr th:only-of-type {\n",
       "        vertical-align: middle;\n",
       "    }\n",
       "\n",
       "    .dataframe tbody tr th {\n",
       "        vertical-align: top;\n",
       "    }\n",
       "\n",
       "    .dataframe thead th {\n",
       "        text-align: right;\n",
       "    }\n",
       "</style>\n",
       "<table border=\"1\" class=\"dataframe\">\n",
       "  <thead>\n",
       "    <tr style=\"text-align: right;\">\n",
       "      <th></th>\n",
       "      <th>0</th>\n",
       "    </tr>\n",
       "  </thead>\n",
       "  <tbody>\n",
       "    <tr>\n",
       "      <th>10 crazy-amazing reasons to do yoga today:</th>\n",
       "      <td>1</td>\n",
       "    </tr>\n",
       "    <tr>\n",
       "      <th>The U.S.'s Ebola rapid-response military medical team will begin training:</th>\n",
       "      <td>1</td>\n",
       "    </tr>\n",
       "    <tr>\n",
       "      <th>Extreme fat photos may undermine message on overweight risk</th>\n",
       "      <td>1</td>\n",
       "    </tr>\n",
       "    <tr>\n",
       "      <th>Diagnostics, Tamiflu help Roche full-year sales beat poll</th>\n",
       "      <td>1</td>\n",
       "    </tr>\n",
       "    <tr>\n",
       "      <th>After Huge Weight Loss, Sagging Skin Remains</th>\n",
       "      <td>1</td>\n",
       "    </tr>\n",
       "    <tr>\n",
       "      <th>Cholesterol-lowering statins more widely recommended in U.S.</th>\n",
       "      <td>1</td>\n",
       "    </tr>\n",
       "    <tr>\n",
       "      <th>How Will Obamacare Affect Employee Health Coverage? @JayHancock1 answers your questions:</th>\n",
       "      <td>1</td>\n",
       "    </tr>\n",
       "    <tr>\n",
       "      <th>RT @TimJHanrahan: In experiment with mice, scientists rewire circuits of brain, changing bad memories into good ones.</th>\n",
       "      <td>1</td>\n",
       "    </tr>\n",
       "    <tr>\n",
       "      <th>We're looking for a summer multimedia intern on @NPRScience desk. Paid position. Lots of fun. Apply now:</th>\n",
       "      <td>1</td>\n",
       "    </tr>\n",
       "    <tr>\n",
       "      <th>Healthy Lifestyle Choices Could Cut Cancer Rates: Report:</th>\n",
       "      <td>1</td>\n",
       "    </tr>\n",
       "    <tr>\n",
       "      <th>Totally drug-resistant' TB in India: What happens now?</th>\n",
       "      <td>1</td>\n",
       "    </tr>\n",
       "    <tr>\n",
       "      <th>How to do the PERFECT push-up:</th>\n",
       "      <td>1</td>\n",
       "    </tr>\n",
       "    <tr>\n",
       "      <th>RT @judith_graham: Responding to sharp criticism, Medicare announces changes to its 5 star nursing home rating system.</th>\n",
       "      <td>1</td>\n",
       "    </tr>\n",
       "    <tr>\n",
       "      <th>From our @Julie_Appleby: RT @sandyblock: HMOs could play prominent role in new health care exchanges.</th>\n",
       "      <td>1</td>\n",
       "    </tr>\n",
       "    <tr>\n",
       "      <th>Harvard Gets Largest-Ever Donation</th>\n",
       "      <td>1</td>\n",
       "    </tr>\n",
       "    <tr>\n",
       "      <th>A2: We have treadmill &amp;amp; standing desks! RT @WilliamCNN: WOOT.</th>\n",
       "      <td>1</td>\n",
       "    </tr>\n",
       "    <tr>\n",
       "      <th>RT @JordanaBrewster: check out the June issue of @goodhealth ! #cover #soexcited!</th>\n",
       "      <td>1</td>\n",
       "    </tr>\n",
       "    <tr>\n",
       "      <th>More Exercise Could Make For Better Sleep: Study:</th>\n",
       "      <td>1</td>\n",
       "    </tr>\n",
       "    <tr>\n",
       "      <th>Why We Should Be Talking More About Old Dads</th>\n",
       "      <td>1</td>\n",
       "    </tr>\n",
       "    <tr>\n",
       "      <th>20% of NHS work 'does no good'</th>\n",
       "      <td>1</td>\n",
       "    </tr>\n",
       "    <tr>\n",
       "      <th>RT @Jeffdelviscio: What if you could reach into your brain and adjust bad memories?</th>\n",
       "      <td>1</td>\n",
       "    </tr>\n",
       "    <tr>\n",
       "      <th>Smoking is even more deadly than you think. So says this special report in @NEJM</th>\n",
       "      <td>1</td>\n",
       "    </tr>\n",
       "    <tr>\n",
       "      <th>Health Officials Trace Travels Of First Ebola Patient In U.S.</th>\n",
       "      <td>1</td>\n",
       "    </tr>\n",
       "    <tr>\n",
       "      <th>Plant-based diet may lower obese children’s risk of heart disease</th>\n",
       "      <td>1</td>\n",
       "    </tr>\n",
       "    <tr>\n",
       "      <th>Canadians pay egg donors on the grey market</th>\n",
       "      <td>1</td>\n",
       "    </tr>\n",
       "    <tr>\n",
       "      <th>Sriracha Chemistry: How Hot Sauces Perk Up Your Food And Your Mood</th>\n",
       "      <td>1</td>\n",
       "    </tr>\n",
       "    <tr>\n",
       "      <th>Uninsured rate: 13.4% -- Lowest in U.S. since @Gallup started keeping track in 2008:</th>\n",
       "      <td>1</td>\n",
       "    </tr>\n",
       "    <tr>\n",
       "      <th>RT @AllergyReliefNY: .@cnnhealth @drbensmart yes! You can develop allergies at any age, in general it does effect younger people more #CNNaâ€¦</th>\n",
       "      <td>1</td>\n",
       "    </tr>\n",
       "    <tr>\n",
       "      <th>Doctors found to lack trust in drug company studies</th>\n",
       "      <td>1</td>\n",
       "    </tr>\n",
       "    <tr>\n",
       "      <th>Even In Female Dominated Nursing, Men Earn More, @Jrovner reports:</th>\n",
       "      <td>1</td>\n",
       "    </tr>\n",
       "    <tr>\n",
       "      <th>...</th>\n",
       "      <td>...</td>\n",
       "    </tr>\n",
       "    <tr>\n",
       "      <th>Whooping cough vaccine safe for pregnant women</th>\n",
       "      <td>1</td>\n",
       "    </tr>\n",
       "    <tr>\n",
       "      <th>How GPs should plan care for people with long-term conditions â€“ video</th>\n",
       "      <td>1</td>\n",
       "    </tr>\n",
       "    <tr>\n",
       "      <th>Stuck in a #fitness rut? How to spring clean your routine:</th>\n",
       "      <td>1</td>\n",
       "    </tr>\n",
       "    <tr>\n",
       "      <th>Semen quality linked to overall health</th>\n",
       "      <td>1</td>\n",
       "    </tr>\n",
       "    <tr>\n",
       "      <th>WHO declares end of separate Ebola outbreak in Congo</th>\n",
       "      <td>1</td>\n",
       "    </tr>\n",
       "    <tr>\n",
       "      <th>For more on #chelation therapy, @fultonhere did a radio piece about it last year. #nigeriagold</th>\n",
       "      <td>1</td>\n",
       "    </tr>\n",
       "    <tr>\n",
       "      <th>Could Genetics Hold The Answer To Curing Autism?</th>\n",
       "      <td>1</td>\n",
       "    </tr>\n",
       "    <tr>\n",
       "      <th>Flu shot policy for health workers reviewed</th>\n",
       "      <td>1</td>\n",
       "    </tr>\n",
       "    <tr>\n",
       "      <th>Homicide no longer a leading cause of death</th>\n",
       "      <td>1</td>\n",
       "    </tr>\n",
       "    <tr>\n",
       "      <th>Is the dip on U.S. health care spending over?</th>\n",
       "      <td>1</td>\n",
       "    </tr>\n",
       "    <tr>\n",
       "      <th>Average European man got 11 cm taller since 1870s</th>\n",
       "      <td>1</td>\n",
       "    </tr>\n",
       "    <tr>\n",
       "      <th>Concern over high liver deaths rate</th>\n",
       "      <td>1</td>\n",
       "    </tr>\n",
       "    <tr>\n",
       "      <th>Are women destined to gain weight during certain stages of life (after kids, perimenopuase, the holidays!)? Here's how to \"fat-proof\"...</th>\n",
       "      <td>1</td>\n",
       "    </tr>\n",
       "    <tr>\n",
       "      <th>Wake-Up Call: FDA Pushes Drugmakers To Weaken Sleeping Pills</th>\n",
       "      <td>1</td>\n",
       "    </tr>\n",
       "    <tr>\n",
       "      <th>Many Jails Got No Flu Shots During H1N1 Outbreak: CDC:</th>\n",
       "      <td>1</td>\n",
       "    </tr>\n",
       "    <tr>\n",
       "      <th>Map of the Ebola outbreak, which is the biggest on record.</th>\n",
       "      <td>1</td>\n",
       "    </tr>\n",
       "    <tr>\n",
       "      <th>RT @goodinbed: Curious about those VDay survey results? Find out everyone's 'sexpectations' over at @cnnhealth:</th>\n",
       "      <td>1</td>\n",
       "    </tr>\n",
       "    <tr>\n",
       "      <th>Speed of weight loss may have little impact on success at keeping it off</th>\n",
       "      <td>1</td>\n",
       "    </tr>\n",
       "    <tr>\n",
       "      <th>CEO to step down of Livestrong group founded by cyclist Armstrong</th>\n",
       "      <td>1</td>\n",
       "    </tr>\n",
       "    <tr>\n",
       "      <th>Email Vacations' Boost Job Productivity, Lower Stress: Study:</th>\n",
       "      <td>1</td>\n",
       "    </tr>\n",
       "    <tr>\n",
       "      <th>What's autism cost over a lifetime? Try $2.4 million:</th>\n",
       "      <td>1</td>\n",
       "    </tr>\n",
       "    <tr>\n",
       "      <th>Berries are bright, flavorful, and sweet superfruits that have a long list of health benefits.</th>\n",
       "      <td>1</td>\n",
       "    </tr>\n",
       "    <tr>\n",
       "      <th>Need workout motivation? Here's how exercise cuts #breastcancer risk</th>\n",
       "      <td>1</td>\n",
       "    </tr>\n",
       "    <tr>\n",
       "      <th>AUDIO: 'Why I would take Alzheimer's test'</th>\n",
       "      <td>1</td>\n",
       "    </tr>\n",
       "    <tr>\n",
       "      <th>HG Wells: The first celebrity charity campaigner?</th>\n",
       "      <td>1</td>\n",
       "    </tr>\n",
       "    <tr>\n",
       "      <th>Judi Dench has degenerative eye condition; says she won't go blind</th>\n",
       "      <td>1</td>\n",
       "    </tr>\n",
       "    <tr>\n",
       "      <th>Colorado Ads Use Sex And Alcohol To Sell Health Insurance</th>\n",
       "      <td>1</td>\n",
       "    </tr>\n",
       "    <tr>\n",
       "      <th>Chill out, enjoy #holidays without weight gain</th>\n",
       "      <td>1</td>\n",
       "    </tr>\n",
       "    <tr>\n",
       "      <th>To Clean Drinking Water, All You Need Is A Stick</th>\n",
       "      <td>1</td>\n",
       "    </tr>\n",
       "    <tr>\n",
       "      <th>2 large meals  may be better than 6 small ones for #weightloss &amp;amp; #diabetes</th>\n",
       "      <td>1</td>\n",
       "    </tr>\n",
       "  </tbody>\n",
       "</table>\n",
       "<p>60376 rows × 1 columns</p>\n",
       "</div>"
      ],
      "text/plain": [
       "                                                    0\n",
       "10 crazy-amazing reasons to do yoga today:          1\n",
       "The U.S.'s Ebola rapid-response military medica...  1\n",
       "Extreme fat photos may undermine message on ove...  1\n",
       "Diagnostics, Tamiflu help Roche full-year sales...  1\n",
       "After Huge Weight Loss, Sagging Skin Remains        1\n",
       "Cholesterol-lowering statins more widely recomm...  1\n",
       "How Will Obamacare Affect Employee Health Cover...  1\n",
       "RT @TimJHanrahan: In experiment with mice, scie...  1\n",
       "We're looking for a summer multimedia intern on...  1\n",
       "Healthy Lifestyle Choices Could Cut Cancer Rate...  1\n",
       "Totally drug-resistant' TB in India: What happe...  1\n",
       "How to do the PERFECT push-up:                      1\n",
       "RT @judith_graham: Responding to sharp criticis...  1\n",
       "From our @Julie_Appleby: RT @sandyblock: HMOs c...  1\n",
       "Harvard Gets Largest-Ever Donation                  1\n",
       "A2: We have treadmill &amp; standing desks! RT ...  1\n",
       "RT @JordanaBrewster: check out the June issue o...  1\n",
       "More Exercise Could Make For Better Sleep: Stud...  1\n",
       "Why We Should Be Talking More About Old Dads        1\n",
       "20% of NHS work 'does no good'                      1\n",
       "RT @Jeffdelviscio: What if you could reach into...  1\n",
       "Smoking is even more deadly than you think. So ...  1\n",
       "Health Officials Trace Travels Of First Ebola P...  1\n",
       "Plant-based diet may lower obese children’s ris...  1\n",
       "Canadians pay egg donors on the grey market         1\n",
       "Sriracha Chemistry: How Hot Sauces Perk Up Your...  1\n",
       "Uninsured rate: 13.4% -- Lowest in U.S. since @...  1\n",
       "RT @AllergyReliefNY: .@cnnhealth @drbensmart ye...  1\n",
       "Doctors found to lack trust in drug company stu...  1\n",
       "Even In Female Dominated Nursing, Men Earn More...  1\n",
       "...                                                ..\n",
       "Whooping cough vaccine safe for pregnant women      1\n",
       "How GPs should plan care for people with long-t...  1\n",
       "Stuck in a #fitness rut? How to spring clean yo...  1\n",
       "Semen quality linked to overall health              1\n",
       "WHO declares end of separate Ebola outbreak in ...  1\n",
       "For more on #chelation therapy, @fultonhere did...  1\n",
       "Could Genetics Hold The Answer To Curing Autism?    1\n",
       "Flu shot policy for health workers reviewed         1\n",
       "Homicide no longer a leading cause of death         1\n",
       "Is the dip on U.S. health care spending over?       1\n",
       "Average European man got 11 cm taller since 1870s   1\n",
       "Concern over high liver deaths rate                 1\n",
       "Are women destined to gain weight during certai...  1\n",
       "Wake-Up Call: FDA Pushes Drugmakers To Weaken S...  1\n",
       "Many Jails Got No Flu Shots During H1N1 Outbrea...  1\n",
       "Map of the Ebola outbreak, which is the biggest...  1\n",
       "RT @goodinbed: Curious about those VDay survey ...  1\n",
       "Speed of weight loss may have little impact on ...  1\n",
       "CEO to step down of Livestrong group founded by...  1\n",
       "Email Vacations' Boost Job Productivity, Lower ...  1\n",
       "What's autism cost over a lifetime? Try $2.4 mi...  1\n",
       "Berries are bright, flavorful, and sweet superf...  1\n",
       "Need workout motivation? Here's how exercise cu...  1\n",
       "AUDIO: 'Why I would take Alzheimer's test'          1\n",
       "HG Wells: The first celebrity charity campaigner?   1\n",
       "Judi Dench has degenerative eye condition; says...  1\n",
       "Colorado Ads Use Sex And Alcohol To Sell Health...  1\n",
       "Chill out, enjoy #holidays without weight gain      1\n",
       "To Clean Drinking Water, All You Need Is A Stick    1\n",
       "2 large meals  may be better than 6 small ones ...  1\n",
       "\n",
       "[60376 rows x 1 columns]"
      ]
     },
     "execution_count": 8,
     "metadata": {},
     "output_type": "execute_result"
    }
   ],
   "source": [
    "health_df.apply(pd.value_counts)"
   ]
  },
  {
   "cell_type": "code",
   "execution_count": 9,
   "metadata": {},
   "outputs": [
    {
     "data": {
      "text/plain": [
       "60376"
      ]
     },
     "execution_count": 9,
     "metadata": {},
     "output_type": "execute_result"
    }
   ],
   "source": [
    "len(health_df) #Reduce tweets from 63207 to 60376"
   ]
  },
  {
   "cell_type": "markdown",
   "metadata": {},
   "source": [
    "# Data Cleaning - Import necessary dependencies"
   ]
  },
  {
   "cell_type": "code",
   "execution_count": 10,
   "metadata": {},
   "outputs": [],
   "source": [
    "import spacy\n",
    "import pandas as pd\n",
    "import numpy as np\n",
    "import nltk\n",
    "from nltk.tokenize.toktok import ToktokTokenizer\n",
    "import re\n",
    "from bs4 import BeautifulSoup\n",
    "from contractions import CONTRACTION_MAP\n",
    "import unicodedata\n",
    "\n",
    "# nltk.download('stopwords')\n",
    "# python -m spacy download en\n",
    "\n",
    "nlp = spacy.load('en', parse=True, tag=True, entity=True)\n",
    "tokenizer = ToktokTokenizer()\n",
    "stopword_list = nltk.corpus.stopwords.words('english')\n",
    "stopword_list.remove('no')\n",
    "stopword_list.remove('not')"
   ]
  },
  {
   "cell_type": "code",
   "execution_count": 11,
   "metadata": {},
   "outputs": [],
   "source": [
    "health_df1=health_df #Create health_df1 as a back-up"
   ]
  },
  {
   "cell_type": "markdown",
   "metadata": {},
   "source": [
    "# Lowercase the text "
   ]
  },
  {
   "cell_type": "code",
   "execution_count": 12,
   "metadata": {},
   "outputs": [],
   "source": [
    "health_df=health_df[0].str.lower()"
   ]
  },
  {
   "cell_type": "code",
   "execution_count": 13,
   "metadata": {},
   "outputs": [
    {
     "data": {
      "text/plain": [
       "0                     breast cancer risk test devised \n",
       "1                 gp workload harming care - bma poll \n",
       "2                 short people's 'heart risk greater' \n",
       "3                new approach against hiv 'promising' \n",
       "4                coalition 'undermined nhs' - doctors \n",
       "5                  review of case against nhs manager \n",
       "6    video: 'all day is empty, what am i going to d...\n",
       "7       video: 'overhaul needed' for end-of-life care \n",
       "8                     care for dying 'needs overhaul' \n",
       "9            video: nhs: labour and tory key policies \n",
       "Name: 0, dtype: object"
      ]
     },
     "execution_count": 13,
     "metadata": {},
     "output_type": "execute_result"
    }
   ],
   "source": [
    "health_df.head(10)"
   ]
  },
  {
   "cell_type": "markdown",
   "metadata": {},
   "source": [
    "# Remove @Word and \"#Word\""
   ]
  },
  {
   "cell_type": "code",
   "execution_count": 14,
   "metadata": {},
   "outputs": [],
   "source": [
    "def removeTags(s):\n",
    "    s = re.sub(\"@[a-zA-Z0-9_]+\",\" \", s) #remove the @<the word>\n",
    "    s = re.sub(\"#[a-zA-Z0-9_]+\",\" \", s) #remove the #<the word>\n",
    "    return s\n",
    "\n",
    "health_df=health_df.apply(removeTags)"
   ]
  },
  {
   "cell_type": "code",
   "execution_count": 15,
   "metadata": {},
   "outputs": [
    {
     "data": {
      "text/plain": [
       "0                     breast cancer risk test devised \n",
       "1                 gp workload harming care - bma poll \n",
       "2                 short people's 'heart risk greater' \n",
       "3                new approach against hiv 'promising' \n",
       "4                coalition 'undermined nhs' - doctors \n",
       "5                  review of case against nhs manager \n",
       "6    video: 'all day is empty, what am i going to d...\n",
       "7       video: 'overhaul needed' for end-of-life care \n",
       "8                     care for dying 'needs overhaul' \n",
       "9            video: nhs: labour and tory key policies \n",
       "Name: 0, dtype: object"
      ]
     },
     "execution_count": 15,
     "metadata": {},
     "output_type": "execute_result"
    }
   ],
   "source": [
    "health_df.head(10)"
   ]
  },
  {
   "cell_type": "markdown",
   "metadata": {},
   "source": [
    "# Removing HTML Tags and HTTP Tags"
   ]
  },
  {
   "cell_type": "code",
   "execution_count": 16,
   "metadata": {},
   "outputs": [],
   "source": [
    "def strip_html_tags(text):\n",
    "    soup = BeautifulSoup(text, \"html.parser\")\n",
    "    stripped_text = soup.get_text()\n",
    "    return stripped_text\n",
    "\n",
    "health_df=health_df.apply(strip_html_tags)"
   ]
  },
  {
   "cell_type": "code",
   "execution_count": 17,
   "metadata": {},
   "outputs": [
    {
     "data": {
      "text/plain": [
       "0                     breast cancer risk test devised \n",
       "1                 gp workload harming care - bma poll \n",
       "2                 short people's 'heart risk greater' \n",
       "3                new approach against hiv 'promising' \n",
       "4                coalition 'undermined nhs' - doctors \n",
       "5                  review of case against nhs manager \n",
       "6    video: 'all day is empty, what am i going to d...\n",
       "7       video: 'overhaul needed' for end-of-life care \n",
       "8                     care for dying 'needs overhaul' \n",
       "9            video: nhs: labour and tory key policies \n",
       "Name: 0, dtype: object"
      ]
     },
     "execution_count": 17,
     "metadata": {},
     "output_type": "execute_result"
    }
   ],
   "source": [
    "health_df.head(10)"
   ]
  },
  {
   "cell_type": "code",
   "execution_count": 18,
   "metadata": {},
   "outputs": [],
   "source": [
    "def removehttp(http):\n",
    "    http = re.sub(r\"http\\S+\", \"\", http) #remove the http://<the word>\n",
    "    return http\n",
    "\n",
    "health_df=health_df.apply(removehttp)"
   ]
  },
  {
   "cell_type": "code",
   "execution_count": 19,
   "metadata": {},
   "outputs": [
    {
     "data": {
      "text/plain": [
       "0                     breast cancer risk test devised \n",
       "1                 gp workload harming care - bma poll \n",
       "2                 short people's 'heart risk greater' \n",
       "3                new approach against hiv 'promising' \n",
       "4                coalition 'undermined nhs' - doctors \n",
       "5                  review of case against nhs manager \n",
       "6    video: 'all day is empty, what am i going to d...\n",
       "7       video: 'overhaul needed' for end-of-life care \n",
       "8                     care for dying 'needs overhaul' \n",
       "9            video: nhs: labour and tory key policies \n",
       "Name: 0, dtype: object"
      ]
     },
     "execution_count": 19,
     "metadata": {},
     "output_type": "execute_result"
    }
   ],
   "source": [
    "health_df.head(10)"
   ]
  },
  {
   "cell_type": "markdown",
   "metadata": {},
   "source": [
    "# Removing accented characters"
   ]
  },
  {
   "cell_type": "code",
   "execution_count": 20,
   "metadata": {},
   "outputs": [],
   "source": [
    "def remove_accented_chars(text):\n",
    "    text = unicodedata.normalize('NFKD', text).encode('ascii', 'ignore').decode('utf-8', 'ignore')\n",
    "    return text\n",
    "\n",
    "health_df=health_df.apply(remove_accented_chars)"
   ]
  },
  {
   "cell_type": "code",
   "execution_count": 21,
   "metadata": {},
   "outputs": [
    {
     "data": {
      "text/plain": [
       "0                     breast cancer risk test devised \n",
       "1                 gp workload harming care - bma poll \n",
       "2                 short people's 'heart risk greater' \n",
       "3                new approach against hiv 'promising' \n",
       "4                coalition 'undermined nhs' - doctors \n",
       "5                  review of case against nhs manager \n",
       "6    video: 'all day is empty, what am i going to d...\n",
       "7       video: 'overhaul needed' for end-of-life care \n",
       "8                     care for dying 'needs overhaul' \n",
       "9            video: nhs: labour and tory key policies \n",
       "Name: 0, dtype: object"
      ]
     },
     "execution_count": 21,
     "metadata": {},
     "output_type": "execute_result"
    }
   ],
   "source": [
    "health_df.head(10)"
   ]
  },
  {
   "cell_type": "markdown",
   "metadata": {},
   "source": [
    "# Expanding Contractions"
   ]
  },
  {
   "cell_type": "code",
   "execution_count": 22,
   "metadata": {},
   "outputs": [],
   "source": [
    "def expand_contractions(text, contraction_mapping=CONTRACTION_MAP):\n",
    "    \n",
    "    contractions_pattern = re.compile('({})'.format('|'.join(contraction_mapping.keys())), \n",
    "                                      flags=re.IGNORECASE|re.DOTALL)\n",
    "    def expand_match(contraction):\n",
    "        match = contraction.group(0)\n",
    "        first_char = match[0]\n",
    "        expanded_contraction = contraction_mapping.get(match)\\\n",
    "                                if contraction_mapping.get(match)\\\n",
    "                                else contraction_mapping.get(match.lower())                       \n",
    "        expanded_contraction = first_char+expanded_contraction[1:]\n",
    "        return expanded_contraction\n",
    "        \n",
    "    expanded_text = contractions_pattern.sub(expand_match, text)\n",
    "    expanded_text = re.sub(\"'\", \"\", expanded_text)\n",
    "    return expanded_text\n",
    "\n",
    "health_df=health_df.apply(expand_contractions)"
   ]
  },
  {
   "cell_type": "code",
   "execution_count": 23,
   "metadata": {},
   "outputs": [
    {
     "data": {
      "text/plain": [
       "0                    breast cancer risk test devised \n",
       "1                gp workload harming care - bma poll \n",
       "2                   short peoples heart risk greater \n",
       "3                 new approach against hiv promising \n",
       "4                 coalition undermined nhs - doctors \n",
       "5                 review of case against nhs manager \n",
       "6    video: all day is empty, what am i going to do? \n",
       "7        video: overhaul needed for end-of-life care \n",
       "8                      care for dying needs overhaul \n",
       "9           video: nhs: labour and tory key policies \n",
       "Name: 0, dtype: object"
      ]
     },
     "execution_count": 23,
     "metadata": {},
     "output_type": "execute_result"
    }
   ],
   "source": [
    "health_df.head(10)"
   ]
  },
  {
   "cell_type": "markdown",
   "metadata": {},
   "source": [
    "# Insert spaces between special characters to isolate them "
   ]
  },
  {
   "cell_type": "code",
   "execution_count": 24,
   "metadata": {},
   "outputs": [],
   "source": [
    "def insertspace(inspace):\n",
    "    special_char_pattern = re.compile(r'([{.(-)!}])')\n",
    "    inspace = special_char_pattern.sub(\" \\\\1 \", inspace)\n",
    "    return inspace\n",
    "\n",
    "health_df=health_df.apply(insertspace)"
   ]
  },
  {
   "cell_type": "markdown",
   "metadata": {},
   "source": [
    "# Remove numbers"
   ]
  },
  {
   "cell_type": "code",
   "execution_count": 25,
   "metadata": {},
   "outputs": [],
   "source": [
    "def removeNumbers(n):\n",
    "    n = re.sub(\"1[a-zA-Z0-9_]+\",\" \", n) \n",
    "    n = re.sub(\"2[a-zA-Z0-9_]+\",\" \", n) \n",
    "    n = re.sub(\"3[a-zA-Z0-9_]+\",\" \", n) \n",
    "    n = re.sub(\"4[a-zA-Z0-9_]+\",\" \", n) \n",
    "    n = re.sub(\"5[a-zA-Z0-9_]+\",\" \", n) \n",
    "    n = re.sub(\"6[a-zA-Z0-9_]+\",\" \", n) \n",
    "    n = re.sub(\"7[a-zA-Z0-9_]+\",\" \", n) \n",
    "    n = re.sub(\"8[a-zA-Z0-9_]+\",\" \", n) \n",
    "    n = re.sub(\"9[a-zA-Z0-9_]+\",\" \", n) \n",
    "    n = re.sub(\"[0-9]\",\" \", n) \n",
    "    return n\n",
    "\n",
    "health_df=health_df.apply(removeNumbers)"
   ]
  },
  {
   "cell_type": "markdown",
   "metadata": {},
   "source": [
    "# Removing Special Characters"
   ]
  },
  {
   "cell_type": "code",
   "execution_count": 26,
   "metadata": {},
   "outputs": [],
   "source": [
    "def remove_special_characters(text):\n",
    "    text = re.sub('[^a-zA-Z0-9\\s]', '', text)\n",
    "    text = re.sub('[+]', '', text)\n",
    "    return text\n",
    "\n",
    "health_df=health_df.apply(remove_special_characters)"
   ]
  },
  {
   "cell_type": "code",
   "execution_count": 27,
   "metadata": {},
   "outputs": [
    {
     "data": {
      "text/plain": [
       "0                 breast cancer risk test devised \n",
       "1              gp workload harming care  bma poll \n",
       "2                short peoples heart risk greater \n",
       "3              new approach against hiv promising \n",
       "4               coalition undermined nhs  doctors \n",
       "5              review of case against nhs manager \n",
       "6    video all day is empty what am i going to do \n",
       "7        video overhaul needed for endoflife care \n",
       "8                   care for dying needs overhaul \n",
       "9          video nhs labour and tory key policies \n",
       "Name: 0, dtype: object"
      ]
     },
     "execution_count": 27,
     "metadata": {},
     "output_type": "execute_result"
    }
   ],
   "source": [
    "health_df.head(10)"
   ]
  },
  {
   "cell_type": "markdown",
   "metadata": {},
   "source": [
    "# Lemmatizing text"
   ]
  },
  {
   "cell_type": "code",
   "execution_count": 28,
   "metadata": {},
   "outputs": [],
   "source": [
    "def lemmatize_text(text):\n",
    "    text = nlp(text)\n",
    "    text = ' '.join([word.lemma_ if word.lemma_ != '-PRON-' else word.text for word in text])\n",
    "    return text\n",
    "\n",
    "health_df=health_df.apply(lemmatize_text)"
   ]
  },
  {
   "cell_type": "code",
   "execution_count": 29,
   "metadata": {},
   "outputs": [
    {
     "data": {
      "text/plain": [
       "0               breast cancer risk test devise\n",
       "1             gp workload harm care   bma poll\n",
       "2                short people heart risk great\n",
       "3           new approach against hiv promising\n",
       "4             coalition undermine nhs   doctor\n",
       "5           review of case against nhs manager\n",
       "6    video all day be empty what be i go to do\n",
       "7       video overhaul need for endoflife care\n",
       "8                   care for die need overhaul\n",
       "9         video nhs labour and tory key policy\n",
       "Name: 0, dtype: object"
      ]
     },
     "execution_count": 29,
     "metadata": {},
     "output_type": "execute_result"
    }
   ],
   "source": [
    "health_df.head(10)"
   ]
  },
  {
   "cell_type": "markdown",
   "metadata": {},
   "source": [
    "# Stemming Text"
   ]
  },
  {
   "cell_type": "code",
   "execution_count": 30,
   "metadata": {},
   "outputs": [],
   "source": [
    "from nltk.stem import PorterStemmer\n",
    "ps = PorterStemmer()\n",
    "#for word in nlp(health_df):\n",
    "    #print(word)\n",
    "    \n",
    "def stem_text(text):\n",
    "    tokens = tokenizer.tokenize(text)\n",
    " \n",
    "    stem_tokens = [ps.stem(token) for token in tokens]\n",
    "    filtered_text = ' '.join(stem_tokens)    \n",
    "    return filtered_text\n",
    "\n",
    "\n",
    "health_df=health_df.apply(stem_text)"
   ]
  },
  {
   "cell_type": "code",
   "execution_count": 31,
   "metadata": {},
   "outputs": [
    {
     "data": {
      "text/plain": [
       "0      breast cancer risk test devis\n",
       "1     gp workload harm care bma poll\n",
       "2       short peopl heart risk great\n",
       "3    new approach against hiv promis\n",
       "4          coalit undermin nh doctor\n",
       "Name: 0, dtype: object"
      ]
     },
     "execution_count": 31,
     "metadata": {},
     "output_type": "execute_result"
    }
   ],
   "source": [
    "health_df.head()"
   ]
  },
  {
   "cell_type": "markdown",
   "metadata": {},
   "source": [
    "# Removing Stopwords"
   ]
  },
  {
   "cell_type": "code",
   "execution_count": 32,
   "metadata": {},
   "outputs": [],
   "source": [
    "def remove_stopwords(text, is_lower_case=False):\n",
    "    tokens = tokenizer.tokenize(text)\n",
    "    tokens = [token.strip() for token in tokens]\n",
    "    if is_lower_case:\n",
    "        filtered_tokens = [token for token in tokens if token not in stopword_list]\n",
    "    else:\n",
    "        filtered_tokens = [token for token in tokens if token.lower() not in stopword_list]\n",
    "    filtered_text = ' '.join(filtered_tokens)    \n",
    "    return filtered_text\n",
    "\n",
    "health_df=health_df.apply(remove_stopwords)"
   ]
  },
  {
   "cell_type": "code",
   "execution_count": 33,
   "metadata": {},
   "outputs": [
    {
     "data": {
      "text/plain": [
       "0        breast cancer risk test devis\n",
       "1       gp workload harm care bma poll\n",
       "2         short peopl heart risk great\n",
       "3              new approach hiv promis\n",
       "4            coalit undermin nh doctor\n",
       "5                 review case nh manag\n",
       "6                   video day empti go\n",
       "7    video overhaul need endoflif care\n",
       "8               care die need overhaul\n",
       "9      video nh labour tori key polici\n",
       "Name: 0, dtype: object"
      ]
     },
     "execution_count": 33,
     "metadata": {},
     "output_type": "execute_result"
    }
   ],
   "source": [
    "health_df.head(10)"
   ]
  },
  {
   "cell_type": "markdown",
   "metadata": {},
   "source": [
    "# Remove extra newlines"
   ]
  },
  {
   "cell_type": "code",
   "execution_count": 34,
   "metadata": {},
   "outputs": [],
   "source": [
    "def removeline(line):\n",
    "    line = re.sub(r'[\\r|\\n|\\r\\n]+', ' ',line)\n",
    "    return line\n",
    "\n",
    "health_df=health_df.apply(removeline)"
   ]
  },
  {
   "cell_type": "markdown",
   "metadata": {},
   "source": [
    "# Remove extra whitespace"
   ]
  },
  {
   "cell_type": "code",
   "execution_count": 35,
   "metadata": {},
   "outputs": [],
   "source": [
    "def removewhite(space):\n",
    "    space = re.sub(' +', ' ', space)\n",
    "    return space\n",
    "\n",
    "health_df=health_df.apply(removewhite)"
   ]
  },
  {
   "cell_type": "code",
   "execution_count": 36,
   "metadata": {},
   "outputs": [],
   "source": [
    "health_df.to_csv('D:\\\\Education\\\\York U\\\\ML 1010\\\\Group Project\\\\Dataset\\\\HealthNewsTweets_cleaned.csv',encoding='utf-8',index=False)"
   ]
  },
  {
   "cell_type": "code",
   "execution_count": null,
   "metadata": {},
   "outputs": [],
   "source": []
  }
 ],
 "metadata": {
  "kernelspec": {
   "display_name": "Python 3",
   "language": "python",
   "name": "python3"
  },
  "language_info": {
   "codemirror_mode": {
    "name": "ipython",
    "version": 3
   },
   "file_extension": ".py",
   "mimetype": "text/x-python",
   "name": "python",
   "nbconvert_exporter": "python",
   "pygments_lexer": "ipython3",
   "version": "3.6.7"
  }
 },
 "nbformat": 4,
 "nbformat_minor": 2
}
